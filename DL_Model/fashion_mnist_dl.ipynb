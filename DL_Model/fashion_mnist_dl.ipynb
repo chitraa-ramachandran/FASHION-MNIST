{
 "cells": [
  {
   "cell_type": "markdown",
   "metadata": {},
   "source": [
    "### Question 2  Convolution Neural Network"
   ]
  },
  {
   "cell_type": "markdown",
   "metadata": {},
   "source": [
    "###### 2.1: Explanation of Design and Implementation Choices of your Model\n",
    "\n",
    "Fashion MNIST dataset with a twist has dataset comprised of 60,000 small squareD 28×28 pixel grayscale images of items with five different types of clothing with the mapping from 0-4.Each pixel corresponds to one feature and in our data set we have 784 features to be considered. "
   ]
  },
  {
   "cell_type": "markdown",
   "metadata": {},
   "source": [
    "#### The libraries we are using:\n",
    "  ###### Numpy:\n",
    "  It is the core library for scientific computations in Python. It provides a high-performance multidimensional array object and tools for working with these arrays.\n",
    " ###### Pandas: \n",
    " It is a library that provides us with the dataframe and helps us to analyze the dataset by providing functionality like describe,shape etc.In our assignment we have loaded the data into the dataframe by reading it from a CSV file.\n",
    "###### Seaborn:\n",
    "It is a python data visualization library that accepts only dataframe as input.It provides us with statistical graphs\n",
    "###### Pyplot(MatplotLib):\n",
    "It is a plotting library which allows you to plot 2D data\n",
    "###### Sklearn libraries:\n",
    "It is a machine learning library for data mining and analysis.We have used it for model selection,calculation of metrics,dimensionality reduction etc.\n",
    "###### Keras:\n",
    "It is a high level neural network API that runs on the top of TensorFlow.It supports building the baseline of the convolution network.\n",
    "###### TensorFlow: \n",
    "It is a framework used to implement Convolution neural network.It helps to perform operations on the multi dimensional data array called as tensors.\n",
    "###### Tqdm:\n",
    "A library used to show the dynamic progress of our build cnn model.\n",
    "\n",
    "\n"
   ]
  },
  {
   "cell_type": "markdown",
   "metadata": {},
   "source": [
    "#### IMPORTING THE NECCESSARY LIBRARIES"
   ]
  },
  {
   "cell_type": "code",
   "execution_count": 1,
   "metadata": {},
   "outputs": [
    {
     "name": "stderr",
     "output_type": "stream",
     "text": [
      "Using TensorFlow backend.\n"
     ]
    }
   ],
   "source": [
    "#importing the libraries\n",
    "import keras\n",
    "import numpy as np\n",
    "import pandas as pd\n",
    "import matplotlib.pyplot as plt\n",
    "from sklearn.model_selection import train_test_split\n",
    "\n",
    "#keras and tensorflow\n",
    "import keras\n",
    "import tensorflow as tf\n",
    "from keras.models import Sequential\n",
    "from keras.layers import Conv2D,MaxPooling2D,Dense,Flatten,Dropout\n",
    "from tensorflow.keras import optimizers\n",
    "from keras.callbacks import TensorBoard\n",
    "from keras.utils import to_categorical\n",
    "from tensorflow.keras.layers import BatchNormalization \n",
    "from tqdm import tqdm"
   ]
  },
  {
   "cell_type": "markdown",
   "metadata": {},
   "source": [
    "#### LOADING AND PREPARING THE DATASET WITH NORMALIZATION"
   ]
  },
  {
   "cell_type": "markdown",
   "metadata": {},
   "source": [
    "##### Preparing the Data\n",
    "The training data which is loaded from the train.csv file is split into training data set and validation dataset inorder to evaluate the model trained and tune the hyperparameters if need be.\n",
    "\n",
    "We split the  given training data in 8:2 ration for training and validation respectively.The resulting shape of training dataset is 48000(Number of data points) * 784(Number of features) and the validation dataset is 12000*784.\n",
    "\n",
    "\n",
    "The test data is loaded from testX.csv file and it contains 10000 data points.So the resulting shape of test data on which the prediction is to be done is 10000*784."
   ]
  },
  {
   "cell_type": "markdown",
   "metadata": {},
   "source": [
    "#### Normalization of Data\n",
    "MNIST has gray scale images of 28*28 pixels so the pixel can take any value between 0 to 255 and hence we try to normalize or rescale the data to unit dimension so that the value lies between 0-1 which allows the gradient descent to converge faster thereby reducing the training time.\n",
    "\n",
    "##### The Normalization techniques we have considered is :\n",
    "###### Min-Max Normalization:\n",
    "We divide each pixel value by  255 to bound the input value between 0-1"
   ]
  },
  {
   "cell_type": "code",
   "execution_count": 2,
   "metadata": {},
   "outputs": [],
   "source": [
    "#Reading the csv files\n",
    "train_data=pd.read_csv('train.csv')\n",
    "test_data=pd.read_csv('testX.csv')\n",
    "#preparing the data\n",
    "train_data.drop(train_data.columns[[0]], axis = 1, inplace = True)\n",
    "x_train=np.array(train_data.iloc[:,1:])\n",
    "#normalizing the data to bound it between 0-1\n",
    "x_train=x_train.astype('float32')\n",
    "x_train=x_train/255\n",
    "x_test=np.array(test_data.iloc[:,1:])\n",
    "x_test=x_test.astype('float32')\n",
    "x_test=x_test/255\n",
    "x_train.shape\n",
    "x_train_copy=x_train"
   ]
  },
  {
   "cell_type": "code",
   "execution_count": 3,
   "metadata": {},
   "outputs": [],
   "source": [
    "#converting y data to categorical \n",
    "label=[]\n",
    "label=train_data['Label']\n",
    "label=label.values\n",
    "y=to_categorical(label)\n",
    "y\n",
    "y_copy=y"
   ]
  },
  {
   "cell_type": "markdown",
   "metadata": {},
   "source": [
    "#### CREATION OF VALIDATION DATASET\n",
    "The need of the validation data set is that we dont have the classified target value for the test data and inorder to test our trained model we need a dataset for which the prediction is available."
   ]
  },
  {
   "cell_type": "code",
   "execution_count": 4,
   "metadata": {},
   "outputs": [],
   "source": [
    "#splitting the data into training and validation data set\n",
    "ran = 42\n",
    "x_train, x_val, y_train, y_val = train_test_split(x_train, y, test_size=0.2, random_state = ran)"
   ]
  },
  {
   "cell_type": "markdown",
   "metadata": {},
   "source": [
    "#### Convolution Neural Network :(General choice of model for image classification)\n",
    "CNN are fully connected networks where each neuron in one layer is connected to all neurons in the next layer.These networks use convolution operation where the input tensor with shape (number of images) x (image width) x (image height) x (image depth) after passing through a convolutional layer gets abstracted to a feature map, with shape (number of images) x (feature map width) x (feature map height) x (feature map channels). "
   ]
  },
  {
   "cell_type": "markdown",
   "metadata": {},
   "source": [
    "#### SETTING THE PARAMETERS AND RESHAPPING THE DATA FOR CNN MODEL\n",
    "\n",
    "The input to the CNN needs to be reshaped to the format of (image height*image width*channels)\n",
    "\n",
    "Image ht =28 <br>\n",
    "Image wd =28<br>\n",
    "Color channels=1(greyscale)"
   ]
  },
  {
   "cell_type": "code",
   "execution_count": 5,
   "metadata": {},
   "outputs": [
    {
     "name": "stdout",
     "output_type": "stream",
     "text": [
      "x_train shape : (48000, 28, 28, 1)\n",
      "x_test shape : (10000, 28, 28, 1)\n",
      "x_val shape : (12000, 28, 28, 1)\n"
     ]
    }
   ],
   "source": [
    "#setting image pixel to 28*28\n",
    "rows=28\n",
    "cols=28\n",
    "channels=1 #color channels\n",
    "image_shape=(rows,cols,channels)\n",
    "\n",
    "#parameters to cnn\n",
    "epoch=50\n",
    "batchsize=256\n",
    "augumentation=3 #no of augmentations to be done to the image\n",
    "no_of_classes=5 #labels\n",
    "num_blocks = 4\n",
    "num_sub_blocks = 2\n",
    "num_filters = 64\n",
    "use_max_pool = False\n",
    "\n",
    "#reshapping the image data to train the model\n",
    "x_train=x_train.reshape(x_train.shape[0],rows,cols,1)\n",
    "x_train_copy=x_train_copy.reshape(x_train_copy.shape[0],rows,cols,1)\n",
    "x_test=x_test.reshape(x_test.shape[0],rows,cols,1)\n",
    "x_val=x_val.reshape(x_val.shape[0],rows,cols,1)\n",
    "\n",
    "print('x_train shape : {}'.format(x_train.shape))\n",
    "print('x_test shape : {}'.format(x_test.shape))\n",
    "print('x_val shape : {}'.format(x_val.shape))"
   ]
  },
  {
   "cell_type": "markdown",
   "metadata": {},
   "source": [
    "#### CREATING A BASE MODEL OF CNN WITH RMSProp OPTIMIZER  (2.5.2 result analysis explained)\n",
    "The simplest type of model is the linear stack of layers (Sequential model).\n",
    "\n",
    "The cnn model model has two main aspects: the feature extraction front end comprised of convolutional and pooling layers, and the classifier backend that will make the prediction.\n",
    "\n",
    "For the convolutional front-end, we start by adding convolutional layer with a small filter size (3,3) and a smaller number of filters (32) followed by a max pooling layer with the pool size 2.Classification Accuracy is one of the main goal of training a model (ie) metric that determines the number of correct predictions made out of the total number of predictions to be made.Classification Accuracy is one of the main goal of training a model (ie) metric that determines the number of correct predictions made out of the total number of predictions to be made.The activation fuction used is Relu.The filter map is then be flattened to provide features to the classifier.\n",
    "\n",
    "Fashion Mnist is a multi-class classification to predict the probability distribution of an image belonging to each of the 5 different classes.This requires the use of a softmax activation function.Between the feature extractor and the output layer a dense layer with 128 filters is used to interpret the features.\n",
    "\n",
    "We are using RMSProp optimizer for training the dataset with a learning rate of 0.001\n",
    "\n",
    "Once the architecture is established we need to compile the model specifying our key aspect considered for the behaviour of the model.The two key aspects considered are loss fuction :categorical_crossentropy and metric:classification accuracy  \n",
    "\n",
    "Categorical crossentropy is a loss function that is used for single label categorization. This is applied when only one category is applicable for each data point.\n",
    "\n",
    "Classification Accuracy is one of the main goal of training a model (ie)a metric that determines the number of correct predictions made out of the total number of predictions to be made."
   ]
  },
  {
   "cell_type": "code",
   "execution_count": 20,
   "metadata": {},
   "outputs": [],
   "source": [
    "#implementation of baseline model of cnn\n",
    "base_cnn=tf.keras.Sequential()\n",
    "#adding default image dimension to be passed on every call\n",
    "base_cnn.add(tf.keras.layers.InputLayer(image_shape))\n",
    "#adding first layer Conv2D+MaxPooling2D\n",
    "base_cnn.add(tf.keras.layers.Convolution2D(32,(3,3),padding='same',activation='relu'))\n",
    "base_cnn.add(tf.keras.layers.MaxPooling2D(pool_size=(2,2)))\n",
    "#adding second layer Conv2D+MaxPooling2D\n",
    "base_cnn.add(tf.keras.layers.Convolution2D(64,(3,3),padding='same',activation='relu'))\n",
    "base_cnn.add(tf.keras.layers.MaxPooling2D(pool_size=(2,2)))\n",
    "#flatten (Converting to a 1D feature vector)\n",
    "base_cnn.add(tf.keras.layers.Flatten())\n",
    "#adding a fully connected layer\n",
    "base_cnn.add(tf.keras.layers.Dense(128,activation='relu'))\n",
    "#Calling Dropout to avoid overfitting\n",
    "base_cnn.add(tf.keras.layers.Dropout(0.5))#value can be btw 0-1\n",
    "#softmax\n",
    "base_cnn.add(tf.keras.layers.Dense(5,activation='softmax'))\n",
    "#using RMSProp optimizer with learning rate 0.001\n",
    "op=optimizers.RMSprop(lr=0.001)\n",
    "base_cnn.compile(loss='categorical_crossentropy',optimizer=op,metrics=['accuracy'])"
   ]
  },
  {
   "cell_type": "markdown",
   "metadata": {},
   "source": [
    "##### Fitting the base model with 40 epochs"
   ]
  },
  {
   "cell_type": "code",
   "execution_count": 21,
   "metadata": {},
   "outputs": [
    {
     "name": "stdout",
     "output_type": "stream",
     "text": [
      "Train on 48000 samples, validate on 12000 samples\n",
      "Epoch 1/40\n",
      "48000/48000 [==============================] - 49s 1ms/sample - loss: 0.6495 - acc: 0.7283 - val_loss: 0.4665 - val_acc: 0.8021\n",
      "Epoch 2/40\n",
      "48000/48000 [==============================] - 44s 917us/sample - loss: 0.4776 - acc: 0.8087 - val_loss: 0.3847 - val_acc: 0.8437\n",
      "Epoch 3/40\n",
      "48000/48000 [==============================] - 44s 916us/sample - loss: 0.4380 - acc: 0.8269 - val_loss: 0.4026 - val_acc: 0.8341\n",
      "Epoch 4/40\n",
      "48000/48000 [==============================] - 46s 968us/sample - loss: 0.4252 - acc: 0.8354 - val_loss: 0.4676 - val_acc: 0.8124\n",
      "Epoch 5/40\n",
      "48000/48000 [==============================] - 49s 1ms/sample - loss: 0.4157 - acc: 0.8401 - val_loss: 0.4007 - val_acc: 0.8410\n",
      "Epoch 6/40\n",
      "48000/48000 [==============================] - 49s 1ms/sample - loss: 0.4117 - acc: 0.8412 - val_loss: 0.4161 - val_acc: 0.8366\n",
      "Epoch 7/40\n",
      "48000/48000 [==============================] - 49s 1ms/sample - loss: 0.4117 - acc: 0.8440 - val_loss: 0.4091 - val_acc: 0.8348\n",
      "Epoch 8/40\n",
      "48000/48000 [==============================] - 49s 1ms/sample - loss: 0.4075 - acc: 0.8443 - val_loss: 0.4510 - val_acc: 0.8200\n",
      "Epoch 9/40\n",
      "48000/48000 [==============================] - 49s 1ms/sample - loss: 0.4062 - acc: 0.8471 - val_loss: 0.4079 - val_acc: 0.8424\n",
      "Epoch 10/40\n",
      "48000/48000 [==============================] - 49s 1ms/sample - loss: 0.4044 - acc: 0.8499 - val_loss: 0.3760 - val_acc: 0.8606\n",
      "Epoch 11/40\n",
      "48000/48000 [==============================] - 44s 924us/sample - loss: 0.4095 - acc: 0.8474 - val_loss: 0.3760 - val_acc: 0.8586\n",
      "Epoch 12/40\n",
      "48000/48000 [==============================] - 48s 1ms/sample - loss: 0.4133 - acc: 0.8446 - val_loss: 0.4254 - val_acc: 0.8347\n",
      "Epoch 13/40\n",
      "48000/48000 [==============================] - 50s 1ms/sample - loss: 0.4151 - acc: 0.8455 - val_loss: 0.4093 - val_acc: 0.8414\n",
      "Epoch 14/40\n",
      "48000/48000 [==============================] - 51s 1ms/sample - loss: 0.4226 - acc: 0.8455 - val_loss: 0.4131 - val_acc: 0.8395\n",
      "Epoch 15/40\n",
      "48000/48000 [==============================] - 46s 956us/sample - loss: 0.4206 - acc: 0.8445 - val_loss: 0.4077 - val_acc: 0.8320\n",
      "Epoch 16/40\n",
      "48000/48000 [==============================] - 46s 962us/sample - loss: 0.4242 - acc: 0.8444 - val_loss: 0.4079 - val_acc: 0.8481\n",
      "Epoch 17/40\n",
      "48000/48000 [==============================] - 49s 1ms/sample - loss: 0.4260 - acc: 0.8419 - val_loss: 0.4070 - val_acc: 0.8453\n",
      "Epoch 18/40\n",
      "48000/48000 [==============================] - 49s 1ms/sample - loss: 0.4243 - acc: 0.8429 - val_loss: 0.3792 - val_acc: 0.8581\n",
      "Epoch 19/40\n",
      "48000/48000 [==============================] - 49s 1ms/sample - loss: 0.4284 - acc: 0.8404 - val_loss: 0.3778 - val_acc: 0.8582\n",
      "Epoch 20/40\n",
      "48000/48000 [==============================] - 49s 1ms/sample - loss: 0.4253 - acc: 0.8431 - val_loss: 0.5293 - val_acc: 0.7795\n",
      "Epoch 21/40\n",
      "48000/48000 [==============================] - 49s 1ms/sample - loss: 0.4317 - acc: 0.8394 - val_loss: 0.3796 - val_acc: 0.8555\n",
      "Epoch 22/40\n",
      "48000/48000 [==============================] - 50s 1ms/sample - loss: 0.4351 - acc: 0.8389 - val_loss: 0.3980 - val_acc: 0.8465\n",
      "Epoch 23/40\n",
      "48000/48000 [==============================] - 44s 917us/sample - loss: 0.4404 - acc: 0.8360 - val_loss: 0.4266 - val_acc: 0.8443\n",
      "Epoch 24/40\n",
      "48000/48000 [==============================] - 44s 922us/sample - loss: 0.4360 - acc: 0.8370 - val_loss: 0.4116 - val_acc: 0.8509\n",
      "Epoch 25/40\n",
      "48000/48000 [==============================] - 44s 917us/sample - loss: 0.4398 - acc: 0.8364 - val_loss: 0.4521 - val_acc: 0.8217\n",
      "Epoch 26/40\n",
      "48000/48000 [==============================] - 44s 922us/sample - loss: 0.4467 - acc: 0.8350 - val_loss: 0.3740 - val_acc: 0.8567\n",
      "Epoch 27/40\n",
      "48000/48000 [==============================] - 44s 918us/sample - loss: 0.4489 - acc: 0.8355 - val_loss: 0.4125 - val_acc: 0.8391\n",
      "Epoch 28/40\n",
      "48000/48000 [==============================] - 44s 917us/sample - loss: 0.4485 - acc: 0.8330 - val_loss: 0.4582 - val_acc: 0.8396\n",
      "Epoch 29/40\n",
      "48000/48000 [==============================] - 44s 918us/sample - loss: 0.4528 - acc: 0.8325 - val_loss: 0.3958 - val_acc: 0.8475\n",
      "Epoch 30/40\n",
      "48000/48000 [==============================] - 44s 920us/sample - loss: 0.4560 - acc: 0.8303 - val_loss: 0.3908 - val_acc: 0.8490\n",
      "Epoch 31/40\n",
      "48000/48000 [==============================] - 44s 918us/sample - loss: 0.4686 - acc: 0.8262 - val_loss: 0.4065 - val_acc: 0.8464\n",
      "Epoch 32/40\n",
      "48000/48000 [==============================] - 44s 919us/sample - loss: 0.4613 - acc: 0.8273 - val_loss: 0.3882 - val_acc: 0.8516\n",
      "Epoch 33/40\n",
      "48000/48000 [==============================] - 44s 917us/sample - loss: 0.4635 - acc: 0.8268 - val_loss: 0.4334 - val_acc: 0.8391\n",
      "Epoch 34/40\n",
      "48000/48000 [==============================] - 44s 918us/sample - loss: 0.4734 - acc: 0.8236 - val_loss: 0.4322 - val_acc: 0.8312\n",
      "Epoch 35/40\n",
      "48000/48000 [==============================] - 44s 919us/sample - loss: 0.4690 - acc: 0.8247 - val_loss: 0.3973 - val_acc: 0.8432\n",
      "Epoch 36/40\n",
      "48000/48000 [==============================] - 44s 923us/sample - loss: 0.4764 - acc: 0.8223 - val_loss: 0.4986 - val_acc: 0.8141\n",
      "Epoch 37/40\n",
      "48000/48000 [==============================] - 43s 906us/sample - loss: 0.4779 - acc: 0.8226 - val_loss: 0.3850 - val_acc: 0.8483\n",
      "Epoch 38/40\n",
      "48000/48000 [==============================] - 43s 903us/sample - loss: 0.4780 - acc: 0.8206 - val_loss: 0.4233 - val_acc: 0.8393\n",
      "Epoch 39/40\n",
      "48000/48000 [==============================] - 43s 902us/sample - loss: 0.4858 - acc: 0.8167 - val_loss: 0.4039 - val_acc: 0.8397\n",
      "Epoch 40/40\n",
      "48000/48000 [==============================] - 45s 929us/sample - loss: 0.4855 - acc: 0.8201 - val_loss: 0.4281 - val_acc: 0.8360\n"
     ]
    }
   ],
   "source": [
    "#fitting the model\n",
    "history=base_cnn.fit(x_train,y_train,epochs=40,validation_data=[x_val,y_val])"
   ]
  },
  {
   "cell_type": "markdown",
   "metadata": {},
   "source": [
    "#### PREDICTING THE ACCURACY OF A DATASET\n",
    "To predict the class, we will find the largest value from the output layer tensord using tf.argmax()"
   ]
  },
  {
   "cell_type": "code",
   "execution_count": 9,
   "metadata": {},
   "outputs": [],
   "source": [
    "#accuracy function\n",
    "def accuracy(x,y):\n",
    "    iter=0\n",
    "    for i in tqdm(range(len(y))):\n",
    "                  prediction=base_cnn.predict(x[i:i+1])\n",
    "                  if np.argmax(prediction)==np.argmax(y[i]):\n",
    "                       iter=iter+1\n",
    "    return iter/len(y)"
   ]
  },
  {
   "cell_type": "code",
   "execution_count": 22,
   "metadata": {},
   "outputs": [
    {
     "name": "stderr",
     "output_type": "stream",
     "text": [
      "100%|██████████| 12000/12000 [00:30<00:00, 399.00it/s]\n"
     ]
    },
    {
     "data": {
      "text/plain": [
       "0.836"
      ]
     },
     "execution_count": 22,
     "metadata": {},
     "output_type": "execute_result"
    }
   ],
   "source": [
    "#calculating max accuracy on val dataset obtained\n",
    "accuracy(x_val,y_val)"
   ]
  },
  {
   "cell_type": "markdown",
   "metadata": {},
   "source": [
    "#### BASE MODEL RESULTS ON VALIDATION DATASET:\n",
    "The base model is fitted on the 48000 data samples from the training dataset and when tested upon the 12000 data samples from the validation dataset the accuracy optained is 83.6 percentage."
   ]
  },
  {
   "cell_type": "code",
   "execution_count": 23,
   "metadata": {},
   "outputs": [],
   "source": [
    "#prediction on test data set\n",
    "pred=base_cnn.predict(x_test)\n",
    "pred=np.argmax(pred,axis=1)\n",
    "df=pd.DataFrame(pred)\n",
    "df.index+=0\n",
    "df.index.name='Id'\n",
    "df.columns=['Label']\n",
    "df.to_csv('base_model',header='true')"
   ]
  },
  {
   "cell_type": "markdown",
   "metadata": {},
   "source": [
    "#### BASE MODEL RESULTS ON TEST DATASET:\n",
    "The trained base model is used to predict the labels of the 10000 data samples from the test data.The results were written into base_model.csv with the id and the label.Upon submission on kaggle the accuracy obtained on the test dataset was 77.16 percentage."
   ]
  },
  {
   "cell_type": "markdown",
   "metadata": {},
   "source": [
    "#### PLOTTING THE RESULTS"
   ]
  },
  {
   "cell_type": "markdown",
   "metadata": {},
   "source": [
    "The metrics we are considering to evaluate the best model is accuracy and the loss function we are considering is categorical cross entropy. By minimizing the loss function we make sure that incorrect classifications are reduced.\n",
    "\n",
    "Hence we are plotting two graphs comparing the epochs with accuracy and loss function respectively."
   ]
  },
  {
   "cell_type": "code",
   "execution_count": 24,
   "metadata": {},
   "outputs": [
    {
     "data": {
      "image/png": "[encoded data removed]",
      "text/plain": [
       "<Figure size 432x288 with 1 Axes>"
      ]
     },
     "metadata": {
      "needs_background": "light"
     },
     "output_type": "display_data"
    }
   ],
   "source": [
    "#graph plot for epochs and loss\n",
    "\n",
    "plt.plot(history.history['loss'])\n",
    "plt.plot(history.history['val_loss'])\n",
    "plt.title(\"Loss\")\n",
    "plt.xlabel('Epochs')\n",
    "plt.ylabel('Loss')\n",
    "plt.legend(['Train', 'Validation'])\n",
    "plt.show()"
   ]
  },
  {
   "cell_type": "code",
   "execution_count": 25,
   "metadata": {},
   "outputs": [
    {
     "data": {
      "image/png": "[encoded data removed]",
      "text/plain": [
       "<Figure size 432x288 with 1 Axes>"
      ]
     },
     "metadata": {
      "needs_background": "light"
     },
     "output_type": "display_data"
    }
   ],
   "source": [
    "#graph plot for epochs and accuracy\n",
    "\n",
    "plt.plot(history.history['acc'])\n",
    "plt.plot(history.history['val_acc'])\n",
    "plt.title(\"Accuracy\")\n",
    "plt.xlabel('Epochs')\n",
    "plt.ylabel('Accuracy')\n",
    "plt.legend(['Train', 'Validation'])\n",
    "plt.show()"
   ]
  },
  {
   "cell_type": "markdown",
   "metadata": {},
   "source": [
    "##### GRAPH ANALYSIS\n",
    "\n",
    "###### EPOCHS VS LOSS\n",
    "When the model is new the loss function is more and as the number of epochs increases the loss function value is decreased.Minimizing the loss function is the goal of a best model.But after certain number of epochs is run the loss function again increases.This is because of the optimizer and the learning rate that we have used.The moment the local minimum is exceeded and a certain number of iterations, a small number is divided by an even smaller number and the loss value explodes.Fine tuning needs to be done in the model improvement.The current model works okay on the validation data set but the curve is not stable indicating that the model is unstable.So we need to regularize the model's parameters\n",
    "\n",
    "###### EPOCHS VS ACCURACY\n",
    "As the number of epochs increases the model learns from the training data and the accuracy increases gradually and it reaches a maximum at around 20 epochs after which the model overfits and the accuracy starts decreasing.To overcome this situation we can add regularizers or dropout laters to decrease the learning capacity of your model and stop training."
   ]
  },
  {
   "cell_type": "markdown",
   "metadata": {},
   "source": [
    "#### TUNING PARAMETERS TO BE CONSIDERED: (2.5.2 result analysis explained)\n",
    "\n",
    "###### Number of filters\n",
    "An increase in the number of filters used in the convolutional layer can often improve performance, as it can provide more opportunity for extracting simple features from the input images.\n",
    "\n",
    "###### Epochs:\n",
    "The number of times the training data is shown to the model.We need to chose an optimal value for the number of epochs inorder to avoid the problem of overfitting.(I have considered 80 epochs for training the model above which there in no significant increase in the accuracy and the model starts to overfit)\n",
    "\n",
    "##### Optimizer:\n",
    "There are various choices of optimizers namely Adam,SGD,RMSProp etc.I have tried RMSProp but it is said to have a lower convergence rate when compared to Adam.So after trying it on the base model on further improvised models we have considered Adam optimizer for cnn.\n",
    "\n",
    "###### Learning Rate:\n",
    "It is recommended that during training process it is better to specify a lower learning rate.We found during optimization that the learning rate of 0.001 improves the accuracy\n",
    "\n",
    "##### Addition of Dropout layer:\n",
    "The dropout regularizer helps to avoid the problem of overfitting by removing some connections from the neural network on every iteration.It is bound to take the value between 0-1.\n",
    "\n",
    "##### Activation Function:\n",
    "The various activation function available is Relu,Sigmoid,Tanh,LeakyRelu.\n",
    "#### Relu is chosen as the best option available for Fashion MNIST \n",
    "because it tends to be fast and while training we are able to see that it helps the neural network to converge easily and reliably than the other activation functions\n",
    "\n",
    "##### Adding padding convolutions\n",
    "Adding padding to the convolutional operation can often result in better model performance, as more of the input image of feature maps are given an opportunity to participate or contribute to the output\n",
    "\n",
    "By default, the convolutional operation uses ‘valid‘ padding, which means that convolutions are only applied where possible. This can be changed to ‘same‘ padding so that zero values are added around the input such that the output has the same size as the input."
   ]
  },
  {
   "cell_type": "markdown",
   "metadata": {},
   "source": [
    "We decided to furthur tune the cnn by adding an another convolution layer and adding droupout layer after each convolution made inorder to make the training easier and remove any unwanted connections in the network."
   ]
  },
  {
   "cell_type": "markdown",
   "metadata": {},
   "source": [
    "###### Reason for tuning hyperparamters:\n",
    "To find right balance between bias and variance <br>\n",
    "Speed up learning<br>\n",
    "To solve the problem of vanishing or exploding gradient<br>"
   ]
  },
  {
   "cell_type": "markdown",
   "metadata": {},
   "source": [
    "#### IMPROVISATON OF THE BASELINE MODEL WITH AN EXTRA CONVOLUTION LAYER AND FITTING THE MODEL WITH 40 EPOCHS  (2.5.2 result analysis explained)\n",
    "\n",
    "In this model we have used three convolution layers with a dropout layer after every convolution.\n",
    "\n",
    "we start off by adding convolutional layer with a small filter size (3,3) and a smaller number of filter - 32 followed by a max pooling layer with the pool size 2.After this convolution layer we add a dropot layer to avoid overfotting of data.Similarly two more convolution and pooling layers with higher number of filters and dropout is added.\n",
    "\n",
    "The remaining layers are similar to the base model.We expect the accuracy to improve and the loss fuction to be minimized in this model.\n"
   ]
  },
  {
   "cell_type": "code",
   "execution_count": 14,
   "metadata": {
    "colab": {
     "base_uri": "https://localhost:8080/",
     "height": 34
    },
    "colab_type": "code",
    "id": "H4QRHx1SDNm6",
    "outputId": "d60f427f-b0f0-4d19-cc07-6ba891905eb9"
   },
   "outputs": [
    {
     "name": "stdout",
     "output_type": "stream",
     "text": [
      "time: 7.29 s\n"
     ]
    }
   ],
   "source": [
    "#implementation of cnn with three layers\n",
    "cnn_3=tf.keras.Sequential()\n",
    "#adding first layer Conv2D+MaxPooling2D\n",
    "cnn_3.add(tf.keras.layers.Convolution2D(32,(3,3),padding='same',activation='relu',input_shape=image_shape))\n",
    "cnn_3.add(tf.keras.layers.MaxPooling2D(pool_size=(2,2)))\n",
    "cnn_3.add(tf.keras.layers.Dropout(0.25))\n",
    "#adding second layer Conv2D+MaxPooling2D\n",
    "cnn_3.add(tf.keras.layers.Convolution2D(64,(3,3),padding='same',activation='relu'))\n",
    "cnn_3.add(tf.keras.layers.MaxPooling2D(pool_size=(2,2)))\n",
    "cnn_3.add(tf.keras.layers.Dropout(0.25))\n",
    "#adding third layer Conv2D+MaxPooling2D\n",
    "cnn_3.add(tf.keras.layers.Convolution2D(128,(3,3),padding='same',activation='relu'))\n",
    "cnn_3.add(tf.keras.layers.MaxPooling2D(pool_size=(2,2)))\n",
    "cnn_3.add(tf.keras.layers.Dropout(0.4))\n",
    "#flatten (Converting to a 1D feature vector)\n",
    "cnn_3.add(tf.keras.layers.Flatten())\n",
    "#adding a fully connected layer\n",
    "cnn_3.add(tf.keras.layers.Dense(128,activation='relu'))\n",
    "#Calling Dropout to avoid overfitting\n",
    "cnn_3.add(tf.keras.layers.Dropout(0.5))#value can be btw 0-1\n",
    "#softmax\n",
    "cnn_3.add(tf.keras.layers.Dense(5,activation='softmax'))\n",
    "#using RMSProp optimizer with learning rate 0.001\n",
    "op=optimizers.RMSprop(learning_rate=0.001)\n",
    "cnn_3.compile(loss='categorical_crossentropy',optimizer=op,metrics=['accuracy'])"
   ]
  },
  {
   "cell_type": "code",
   "execution_count": 15,
   "metadata": {
    "colab": {
     "base_uri": "https://localhost:8080/",
     "height": 1000
    },
    "colab_type": "code",
    "id": "olTYlwPERg6G",
    "outputId": "d53f42ba-c9bc-43ab-e540-cd07b3c12ce0"
   },
   "outputs": [
    {
     "name": "stdout",
     "output_type": "stream",
     "text": [
      "Epoch 1/40\n",
      "188/188 [==============================] - 5s 24ms/step - loss: 0.9835 - accuracy: 0.5712 - val_loss: 0.7016 - val_accuracy: 0.7157\n",
      "Epoch 2/40\n",
      "188/188 [==============================] - 4s 22ms/step - loss: 0.6931 - accuracy: 0.7087 - val_loss: 0.5429 - val_accuracy: 0.7849\n",
      "Epoch 3/40\n",
      "188/188 [==============================] - 4s 22ms/step - loss: 0.6077 - accuracy: 0.7480 - val_loss: 0.7379 - val_accuracy: 0.6694\n",
      "Epoch 4/40\n",
      "188/188 [==============================] - 4s 22ms/step - loss: 0.5609 - accuracy: 0.7677 - val_loss: 0.5226 - val_accuracy: 0.7782\n",
      "Epoch 5/40\n",
      "188/188 [==============================] - 4s 22ms/step - loss: 0.5286 - accuracy: 0.7822 - val_loss: 0.4251 - val_accuracy: 0.8291\n",
      "Epoch 6/40\n",
      "188/188 [==============================] - 4s 21ms/step - loss: 0.5066 - accuracy: 0.7928 - val_loss: 0.4154 - val_accuracy: 0.8348\n",
      "Epoch 7/40\n",
      "188/188 [==============================] - 4s 22ms/step - loss: 0.4812 - accuracy: 0.8030 - val_loss: 0.3887 - val_accuracy: 0.8451\n",
      "Epoch 8/40\n",
      "188/188 [==============================] - 4s 22ms/step - loss: 0.4707 - accuracy: 0.8087 - val_loss: 0.4352 - val_accuracy: 0.8100\n",
      "Epoch 9/40\n",
      "188/188 [==============================] - 4s 22ms/step - loss: 0.4577 - accuracy: 0.8137 - val_loss: 0.3777 - val_accuracy: 0.8443\n",
      "Epoch 10/40\n",
      "188/188 [==============================] - 4s 22ms/step - loss: 0.4436 - accuracy: 0.8183 - val_loss: 0.4039 - val_accuracy: 0.8273\n",
      "Epoch 11/40\n",
      "188/188 [==============================] - 4s 22ms/step - loss: 0.4328 - accuracy: 0.8249 - val_loss: 0.5637 - val_accuracy: 0.7590\n",
      "Epoch 12/40\n",
      "188/188 [==============================] - 4s 21ms/step - loss: 0.4289 - accuracy: 0.8259 - val_loss: 0.3613 - val_accuracy: 0.8502\n",
      "Epoch 13/40\n",
      "188/188 [==============================] - 4s 22ms/step - loss: 0.4226 - accuracy: 0.8288 - val_loss: 0.3343 - val_accuracy: 0.8670\n",
      "Epoch 14/40\n",
      "188/188 [==============================] - 4s 22ms/step - loss: 0.4129 - accuracy: 0.8299 - val_loss: 0.3845 - val_accuracy: 0.8385\n",
      "Epoch 15/40\n",
      "188/188 [==============================] - 4s 22ms/step - loss: 0.4088 - accuracy: 0.8340 - val_loss: 0.3380 - val_accuracy: 0.8685\n",
      "Epoch 16/40\n",
      "188/188 [==============================] - 4s 22ms/step - loss: 0.4011 - accuracy: 0.8380 - val_loss: 0.3739 - val_accuracy: 0.8372\n",
      "Epoch 17/40\n",
      "188/188 [==============================] - 4s 22ms/step - loss: 0.3982 - accuracy: 0.8395 - val_loss: 0.3367 - val_accuracy: 0.8655\n",
      "Epoch 18/40\n",
      "188/188 [==============================] - 4s 22ms/step - loss: 0.3902 - accuracy: 0.8435 - val_loss: 0.4444 - val_accuracy: 0.8071\n",
      "Epoch 19/40\n",
      "188/188 [==============================] - 4s 22ms/step - loss: 0.3879 - accuracy: 0.8438 - val_loss: 0.3286 - val_accuracy: 0.8697\n",
      "Epoch 20/40\n",
      "188/188 [==============================] - 4s 22ms/step - loss: 0.3839 - accuracy: 0.8457 - val_loss: 0.3130 - val_accuracy: 0.8771\n",
      "Epoch 21/40\n",
      "188/188 [==============================] - 4s 22ms/step - loss: 0.3784 - accuracy: 0.8478 - val_loss: 0.3262 - val_accuracy: 0.8643\n",
      "Epoch 22/40\n",
      "188/188 [==============================] - 4s 22ms/step - loss: 0.3761 - accuracy: 0.8473 - val_loss: 0.4718 - val_accuracy: 0.8034\n",
      "Epoch 23/40\n",
      "188/188 [==============================] - 4s 22ms/step - loss: 0.3724 - accuracy: 0.8497 - val_loss: 0.3002 - val_accuracy: 0.8823\n",
      "Epoch 24/40\n",
      "188/188 [==============================] - 4s 22ms/step - loss: 0.3761 - accuracy: 0.8501 - val_loss: 0.3356 - val_accuracy: 0.8570\n",
      "Epoch 25/40\n",
      "188/188 [==============================] - 4s 22ms/step - loss: 0.3664 - accuracy: 0.8531 - val_loss: 0.3101 - val_accuracy: 0.8714\n",
      "Epoch 26/40\n",
      "188/188 [==============================] - 4s 22ms/step - loss: 0.3658 - accuracy: 0.8544 - val_loss: 0.3367 - val_accuracy: 0.8653\n",
      "Epoch 27/40\n",
      "188/188 [==============================] - 4s 22ms/step - loss: 0.3650 - accuracy: 0.8537 - val_loss: 0.3103 - val_accuracy: 0.8788\n",
      "Epoch 28/40\n",
      "188/188 [==============================] - 4s 21ms/step - loss: 0.3623 - accuracy: 0.8566 - val_loss: 0.3402 - val_accuracy: 0.8625\n",
      "Epoch 29/40\n",
      "188/188 [==============================] - 4s 22ms/step - loss: 0.3620 - accuracy: 0.8552 - val_loss: 0.3062 - val_accuracy: 0.8784\n",
      "Epoch 30/40\n",
      "188/188 [==============================] - 4s 22ms/step - loss: 0.3607 - accuracy: 0.8549 - val_loss: 0.3772 - val_accuracy: 0.8375\n",
      "Epoch 31/40\n",
      "188/188 [==============================] - 4s 22ms/step - loss: 0.3574 - accuracy: 0.8591 - val_loss: 0.2986 - val_accuracy: 0.8863\n",
      "Epoch 32/40\n",
      "188/188 [==============================] - 4s 21ms/step - loss: 0.3522 - accuracy: 0.8614 - val_loss: 0.4034 - val_accuracy: 0.8304\n",
      "Epoch 33/40\n",
      "188/188 [==============================] - 4s 22ms/step - loss: 0.3542 - accuracy: 0.8582 - val_loss: 0.3093 - val_accuracy: 0.8769\n",
      "Epoch 34/40\n",
      "188/188 [==============================] - 4s 22ms/step - loss: 0.3489 - accuracy: 0.8597 - val_loss: 0.4355 - val_accuracy: 0.8109\n",
      "Epoch 35/40\n",
      "188/188 [==============================] - 4s 22ms/step - loss: 0.3473 - accuracy: 0.8625 - val_loss: 0.2907 - val_accuracy: 0.8846\n",
      "Epoch 36/40\n",
      "188/188 [==============================] - 4s 22ms/step - loss: 0.3443 - accuracy: 0.8627 - val_loss: 0.2906 - val_accuracy: 0.8837\n",
      "Epoch 37/40\n",
      "188/188 [==============================] - 4s 22ms/step - loss: 0.3464 - accuracy: 0.8643 - val_loss: 0.3115 - val_accuracy: 0.8867\n",
      "Epoch 38/40\n",
      "188/188 [==============================] - 4s 22ms/step - loss: 0.3480 - accuracy: 0.8627 - val_loss: 0.3098 - val_accuracy: 0.8833\n",
      "Epoch 39/40\n",
      "188/188 [==============================] - 4s 22ms/step - loss: 0.3441 - accuracy: 0.8656 - val_loss: 0.3504 - val_accuracy: 0.8524\n",
      "Epoch 40/40\n",
      "188/188 [==============================] - 4s 22ms/step - loss: 0.3452 - accuracy: 0.8627 - val_loss: 0.2925 - val_accuracy: 0.8810\n",
      "time: 2min 51s\n"
     ]
    }
   ],
   "source": [
    "#fitting the model\n",
    "history3 = cnn_3.fit(X_train, y_train,\n",
    "          batch_size=256,\n",
    "          epochs=40,\n",
    "          verbose=1,\n",
    "          validation_data=(X_val, y_val))"
   ]
  },
  {
   "cell_type": "code",
   "execution_count": 16,
   "metadata": {
    "colab": {
     "base_uri": "https://localhost:8080/",
     "height": 312
    },
    "colab_type": "code",
    "id": "6hkiloINUMiP",
    "outputId": "3ab828c5-824d-446b-a65f-d8fc41c46a88"
   },
   "outputs": [
    {
     "data": {
      "image/png": "[encoded data removed]",
      "text/plain": [
       "<Figure size 432x288 with 1 Axes>"
      ]
     },
     "metadata": {
      "needs_background": "light",
      "tags": []
     },
     "output_type": "display_data"
    },
    {
     "name": "stdout",
     "output_type": "stream",
     "text": [
      "time: 253 ms\n"
     ]
    }
   ],
   "source": [
    "#graph plot for epochs and loss\n",
    "\n",
    "plt.plot(history3.history['loss'])\n",
    "plt.plot(history3.history['val_loss'])\n",
    "plt.title(\"Loss\")\n",
    "plt.xlabel('Epochs')\n",
    "plt.ylabel('Loss')\n",
    "plt.legend(['Train', 'Validation'])\n",
    "plt.show()"
   ]
  },
  {
   "cell_type": "code",
   "execution_count": 17,
   "metadata": {
    "colab": {
     "base_uri": "https://localhost:8080/",
     "height": 312
    },
    "colab_type": "code",
    "id": "Db1T1tsLU7Jy",
    "outputId": "c2f027ce-18d6-4b13-f98e-f5d7e64b4bf1"
   },
   "outputs": [
    {
     "data": {
      "image/png": "[encoded data removed]",
      "text/plain": [
       "<Figure size 432x288 with 1 Axes>"
      ]
     },
     "metadata": {
      "needs_background": "light",
      "tags": []
     },
     "output_type": "display_data"
    },
    {
     "name": "stdout",
     "output_type": "stream",
     "text": [
      "time: 231 ms\n"
     ]
    }
   ],
   "source": [
    "#graph plot for epochs and accuracy\n",
    "\n",
    "plt.plot(history3.history['accuracy'])\n",
    "plt.plot(history3.history['val_accuracy'])\n",
    "plt.title(\"Accuracy\")\n",
    "plt.xlabel('Epochs')\n",
    "plt.ylabel('Accuracy')\n",
    "plt.legend(['Train', 'Validation'])\n",
    "plt.show()"
   ]
  },
  {
   "cell_type": "markdown",
   "metadata": {},
   "source": [
    "##### GRAPH ANALYSIS\n",
    "\n",
    "###### EPOCHS VS LOSS\n",
    "For the initial epochs the loss value is more and as the number of epochs increases it slowly approaches to zero which is a good indication.The current model works better than the base model on the validation data set but the curve is still unstable indicating that we still need to finetune the data.\n",
    "\n",
    "###### EPOCHS VS ACCURACY\n",
    "As the number of epochs increases the model learns from the training data and the accuracy increases gradually and it reaches upto 88 percentage at the 40th iteration.The classication done on the validation dataset is better than the previous basemodel."
   ]
  },
  {
   "cell_type": "code",
   "execution_count": 20,
   "metadata": {
    "colab": {
     "base_uri": "https://localhost:8080/",
     "height": 51
    },
    "colab_type": "code",
    "id": "GPvYGrklU-_J",
    "outputId": "3f201ec6-037e-45a7-fe27-1ace74283d33"
   },
   "outputs": [
    {
     "name": "stderr",
     "output_type": "stream",
     "text": [
      "100%|██████████| 12000/12000 [06:02<00:00, 33.10it/s]\n"
     ]
    },
    {
     "data": {
      "text/plain": [
       "0.881"
      ]
     },
     "execution_count": 20,
     "metadata": {
      "tags": []
     },
     "output_type": "execute_result"
    },
    {
     "name": "stdout",
     "output_type": "stream",
     "text": [
      "time: 6min 2s\n"
     ]
    }
   ],
   "source": [
    "def accuracy(x,y):\n",
    "    iter=0\n",
    "    for i in tqdm(range(len(y))):\n",
    "                  prediction=cnn_3.predict(x[i:i+1])\n",
    "                  if np.argmax(prediction)==np.argmax(y[i]):\n",
    "                       iter=iter+1\n",
    "    return iter/len(y)\n",
    "from tqdm import tqdm\n",
    "#calculating max accuracy on val dataset obtained\n",
    "accuracy(X_val, y_val)"
   ]
  },
  {
   "cell_type": "markdown",
   "metadata": {},
   "source": [
    "#### THREE LAYER CNN RESULTS ON VALIDATION DATASET:\n",
    "The current model is fitted on the 48000 data samples from the training dataset and when tested upon the 12000 data samples from the validation dataset the accuracy optained is 88.1 percentage which is an improvement of five percent from the previous base model."
   ]
  },
  {
   "cell_type": "markdown",
   "metadata": {},
   "source": [
    "#### PREDICTION ON THE TEST DATA SET"
   ]
  },
  {
   "cell_type": "code",
   "execution_count": 37,
   "metadata": {
    "colab": {
     "base_uri": "https://localhost:8080/",
     "height": 34
    },
    "colab_type": "code",
    "id": "5ZxTRoFdWcbo",
    "outputId": "56db2f84-693a-4aaa-f100-760bc2e6d0c2"
   },
   "outputs": [
    {
     "name": "stdout",
     "output_type": "stream",
     "text": [
      "time: 609 ms\n"
     ]
    }
   ],
   "source": [
    "#predicting the labels for the test data set\n",
    "pred=cnn_3.predict(testX_norm)\n",
    "pred=np.argmax(pred,axis=1)\n",
    "df=pd.DataFrame(pred)\n",
    "df.index+=0\n",
    "df.index.name='Id'\n",
    "df.columns=['Label']\n",
    "df.to_csv('cnn_3',header='true')"
   ]
  },
  {
   "cell_type": "markdown",
   "metadata": {},
   "source": [
    "######  THREE LAYER CNN RESULTS ON TEST DATASET:\n",
    "\n",
    "While testing the prediction result on Kaggle the accuracy improved to 83.74 percentage.Still we need to find a perfect tradeoff by trial and error method while adding convolution and dropout layers to improvise our model.Generally adding an additional layer helps us to extract the feature better from the data(Only upto a limit) but here it will result in overfitting.So,Inorder to solve this probelm we introduce batch normalization in the next improvization."
   ]
  },
  {
   "cell_type": "markdown",
   "metadata": {},
   "source": [
    "### CNN MODEL GIVING MAXIMUM ACCURACY  (2.5.2 result analysis explained)\n",
    "\n",
    "In this model we have used four convolution layers with a dropout layer after every convolution.BatchNormalization is used in each layer.\n",
    "\n",
    "###### BATCH NORMALIZATION - RECENTERING AND RESCALING TO STANDARD DEVIATION OF 1\n",
    "Batch normalization helps us to increase the stability of the neural network by normalizing the inputs of each layer.Batch Normalization is done before the dropout layer where we normalize the output of one layer before feeding it as the input to the next layer\n",
    "\n",
    "Before the softmax classification layer is added,we have defined two fully connected dense layer with 512 and 128 filters correspondingly.\n",
    "\n",
    "In addition to that we have used the adam optimizer with a learning rate of 0.001 inorder to develop a stable model\n"
   ]
  },
  {
   "cell_type": "code",
   "execution_count": 9,
   "metadata": {},
   "outputs": [],
   "source": [
    "#Best fit\n",
    "#Building a model (we are using sequential model in which we ll be adding layers)\n",
    "cnn=tf.keras.Sequential()\n",
    "#adding default image dimension to be passed on every call\n",
    "cnn.add(tf.keras.layers.InputLayer(image_shape))"
   ]
  },
  {
   "cell_type": "code",
   "execution_count": 10,
   "metadata": {},
   "outputs": [],
   "source": [
    "#adding first layer Conv2D+MaxPooling2D\n",
    "cnn.add(tf.keras.layers.Convolution2D(32,(3,3),padding='same',activation='relu'))\n",
    "cnn.add(tf.keras.layers.BatchNormalization())"
   ]
  },
  {
   "cell_type": "code",
   "execution_count": 11,
   "metadata": {},
   "outputs": [],
   "source": [
    "cnn.add(tf.keras.layers.Convolution2D(32,(3,3),padding='same',activation='relu'))\n",
    "cnn.add(tf.keras.layers.BatchNormalization())\n",
    "cnn.add(tf.keras.layers.MaxPooling2D(pool_size=(2,2))) #strides=2 preferable\n",
    "cnn.add(tf.keras.layers.Dropout(0.25))#value can be btw 0-1"
   ]
  },
  {
   "cell_type": "code",
   "execution_count": 12,
   "metadata": {},
   "outputs": [],
   "source": [
    "#adding third layer Conv2D+MaxPooling2D\n",
    "cnn.add(tf.keras.layers.Convolution2D(64,(3,3),padding='same',activation='relu'))\n",
    "cnn.add(tf.keras.layers.BatchNormalization())\n",
    "cnn.add(tf.keras.layers.Dropout(0.25))#value can be btw 0-1"
   ]
  },
  {
   "cell_type": "code",
   "execution_count": 13,
   "metadata": {},
   "outputs": [],
   "source": [
    "#adding third layer Conv2D+MaxPooling2D\n",
    "cnn.add(tf.keras.layers.Convolution2D(128,(3,3),padding='same',activation='relu'))\n",
    "cnn.add(tf.keras.layers.BatchNormalization())\n",
    "cnn.add(tf.keras.layers.MaxPooling2D(pool_size=(2,2))) #strides=2 preferable\n",
    "cnn.add(tf.keras.layers.Dropout(0.25))#value can be btw 0-1"
   ]
  },
  {
   "cell_type": "code",
   "execution_count": 14,
   "metadata": {},
   "outputs": [],
   "source": [
    "#flatten (Converting to a 1D feature vector)\n",
    "cnn.add(tf.keras.layers.Flatten())"
   ]
  },
  {
   "cell_type": "code",
   "execution_count": 15,
   "metadata": {},
   "outputs": [],
   "source": [
    "#adding a fully connected layer\n",
    "cnn.add(tf.keras.layers.Dense(512,activation='relu'))\n",
    "cnn.add(tf.keras.layers.BatchNormalization())\n",
    "#Calling Dropout to avoid overfitting\n",
    "cnn.add(tf.keras.layers.Dropout(0.5))#value can be btw 0-1"
   ]
  },
  {
   "cell_type": "code",
   "execution_count": 16,
   "metadata": {},
   "outputs": [],
   "source": [
    "#adding another fully connected layer\n",
    "cnn.add(tf.keras.layers.Dense(128,activation='relu'))\n",
    "cnn.add(tf.keras.layers.BatchNormalization())\n",
    "#Calling Dropout to avoid overfitting\n",
    "cnn.add(tf.keras.layers.Dropout(0.5))#value can be btw 0-1"
   ]
  },
  {
   "cell_type": "code",
   "execution_count": 17,
   "metadata": {},
   "outputs": [],
   "source": [
    "#softmax\n",
    "cnn.add(tf.keras.layers.Dense(5,activation='softmax'))"
   ]
  },
  {
   "cell_type": "code",
   "execution_count": 18,
   "metadata": {},
   "outputs": [],
   "source": [
    "#compiling the cnn model\n",
    "op=optimizers.Adam(lr=0.001)\n",
    "cnn.compile(loss='categorical_crossentropy',optimizer=op,metrics=['accuracy'])"
   ]
  },
  {
   "cell_type": "markdown",
   "metadata": {},
   "source": [
    "#### FITTING THE MODEL WITH 80 EPOCHS"
   ]
  },
  {
   "cell_type": "code",
   "execution_count": 58,
   "metadata": {},
   "outputs": [
    {
     "name": "stdout",
     "output_type": "stream",
     "text": [
      "Train on 48000 samples, validate on 12000 samples\n",
      "Epoch 1/80\n",
      "48000/48000 [==============================] - 205s 4ms/sample - loss: 0.7338 - accuracy: 0.7091 - val_loss: 0.4565 - val_accuracy: 0.8120\n",
      "Epoch 2/80\n",
      "48000/48000 [==============================] - 201s 4ms/sample - loss: 0.5399 - accuracy: 0.7800 - val_loss: 0.4205 - val_accuracy: 0.8359\n",
      "Epoch 3/80\n",
      "48000/48000 [==============================] - 194s 4ms/sample - loss: 0.5020 - accuracy: 0.7991 - val_loss: 0.4243 - val_accuracy: 0.8266\n",
      "Epoch 4/80\n",
      "48000/48000 [==============================] - 198s 4ms/sample - loss: 0.4613 - accuracy: 0.8140 - val_loss: 0.4251 - val_accuracy: 0.8255\n",
      "Epoch 5/80\n",
      "48000/48000 [==============================] - 233s 5ms/sample - loss: 0.4484 - accuracy: 0.8207 - val_loss: 0.3353 - val_accuracy: 0.8590\n",
      "Epoch 6/80\n",
      "48000/48000 [==============================] - 230s 5ms/sample - loss: 0.4230 - accuracy: 0.8335 - val_loss: 0.3637 - val_accuracy: 0.8510\n",
      "Epoch 7/80\n",
      "48000/48000 [==============================] - 248s 5ms/sample - loss: 0.3939 - accuracy: 0.8439 - val_loss: 0.3263 - val_accuracy: 0.8683\n",
      "Epoch 8/80\n",
      "48000/48000 [==============================] - 212s 4ms/sample - loss: 0.3773 - accuracy: 0.8508 - val_loss: 0.2921 - val_accuracy: 0.8825\n",
      "Epoch 9/80\n",
      "48000/48000 [==============================] - 206s 4ms/sample - loss: 0.3624 - accuracy: 0.8568 - val_loss: 0.2707 - val_accuracy: 0.8914\n",
      "Epoch 10/80\n",
      "48000/48000 [==============================] - 195s 4ms/sample - loss: 0.3533 - accuracy: 0.8622 - val_loss: 0.3311 - val_accuracy: 0.8568\n",
      "Epoch 11/80\n",
      "48000/48000 [==============================] - 199s 4ms/sample - loss: 0.3381 - accuracy: 0.8664 - val_loss: 0.2733 - val_accuracy: 0.8903\n",
      "Epoch 12/80\n",
      "48000/48000 [==============================] - 206s 4ms/sample - loss: 0.3270 - accuracy: 0.8708 - val_loss: 0.2582 - val_accuracy: 0.8992\n",
      "Epoch 13/80\n",
      "48000/48000 [==============================] - 208s 4ms/sample - loss: 0.3151 - accuracy: 0.8778 - val_loss: 0.2929 - val_accuracy: 0.8788\n",
      "Epoch 14/80\n",
      "48000/48000 [==============================] - 209s 4ms/sample - loss: 0.3067 - accuracy: 0.8797 - val_loss: 0.3172 - val_accuracy: 0.8731\n",
      "Epoch 15/80\n",
      "48000/48000 [==============================] - 210s 4ms/sample - loss: 0.3038 - accuracy: 0.8817 - val_loss: 0.3913 - val_accuracy: 0.8407\n",
      "Epoch 16/80\n",
      "48000/48000 [==============================] - 199s 4ms/sample - loss: 0.2980 - accuracy: 0.8827 - val_loss: 0.2814 - val_accuracy: 0.8849\n",
      "Epoch 17/80\n",
      "48000/48000 [==============================] - 203s 4ms/sample - loss: 0.2852 - accuracy: 0.8888 - val_loss: 0.2589 - val_accuracy: 0.8967\n",
      "Epoch 18/80\n",
      "48000/48000 [==============================] - 204s 4ms/sample - loss: 0.2839 - accuracy: 0.8902 - val_loss: 0.2490 - val_accuracy: 0.9011\n",
      "Epoch 19/80\n",
      "48000/48000 [==============================] - 192s 4ms/sample - loss: 0.2772 - accuracy: 0.8911 - val_loss: 0.3036 - val_accuracy: 0.8712\n",
      "Epoch 20/80\n",
      "48000/48000 [==============================] - 193s 4ms/sample - loss: 0.2734 - accuracy: 0.8930 - val_loss: 0.2498 - val_accuracy: 0.8974\n",
      "Epoch 21/80\n",
      "48000/48000 [==============================] - 198s 4ms/sample - loss: 0.2614 - accuracy: 0.8981 - val_loss: 0.2432 - val_accuracy: 0.9028\n",
      "Epoch 22/80\n",
      "48000/48000 [==============================] - 207s 4ms/sample - loss: 0.2598 - accuracy: 0.8989 - val_loss: 0.2524 - val_accuracy: 0.8963\n",
      "Epoch 23/80\n",
      "48000/48000 [==============================] - 195s 4ms/sample - loss: 0.2509 - accuracy: 0.9037 - val_loss: 0.2676 - val_accuracy: 0.8901\n",
      "Epoch 24/80\n",
      "48000/48000 [==============================] - 193s 4ms/sample - loss: 0.2555 - accuracy: 0.9004 - val_loss: 0.2861 - val_accuracy: 0.8847\n",
      "Epoch 25/80\n",
      "48000/48000 [==============================] - 193s 4ms/sample - loss: 0.2468 - accuracy: 0.9039 - val_loss: 0.2396 - val_accuracy: 0.9023\n",
      "Epoch 26/80\n",
      "48000/48000 [==============================] - 194s 4ms/sample - loss: 0.2375 - accuracy: 0.9081 - val_loss: 0.2487 - val_accuracy: 0.9021\n",
      "Epoch 27/80\n",
      "48000/48000 [==============================] - 356s 7ms/sample - loss: 0.2365 - accuracy: 0.9086 - val_loss: 0.2454 - val_accuracy: 0.9042\n",
      "Epoch 28/80\n",
      "48000/48000 [==============================] - 206s 4ms/sample - loss: 0.2307 - accuracy: 0.9119 - val_loss: 0.3017 - val_accuracy: 0.8811\n",
      "Epoch 29/80\n",
      "48000/48000 [==============================] - 198s 4ms/sample - loss: 0.2284 - accuracy: 0.9114 - val_loss: 0.2351 - val_accuracy: 0.9045\n",
      "Epoch 30/80\n",
      "48000/48000 [==============================] - 193s 4ms/sample - loss: 0.2262 - accuracy: 0.9111 - val_loss: 0.2650 - val_accuracy: 0.8952\n",
      "Epoch 31/80\n",
      "48000/48000 [==============================] - 194s 4ms/sample - loss: 0.2203 - accuracy: 0.9138 - val_loss: 0.2472 - val_accuracy: 0.9024\n",
      "Epoch 32/80\n",
      "48000/48000 [==============================] - 207s 4ms/sample - loss: 0.2220 - accuracy: 0.9147 - val_loss: 0.2538 - val_accuracy: 0.8969\n",
      "Epoch 33/80\n",
      "48000/48000 [==============================] - 202s 4ms/sample - loss: 0.2192 - accuracy: 0.9153 - val_loss: 0.2539 - val_accuracy: 0.8958\n",
      "Epoch 34/80\n",
      "48000/48000 [==============================] - 204s 4ms/sample - loss: 0.2116 - accuracy: 0.9186 - val_loss: 0.2485 - val_accuracy: 0.9024\n",
      "Epoch 35/80\n",
      "48000/48000 [==============================] - 221s 5ms/sample - loss: 0.2058 - accuracy: 0.9203 - val_loss: 0.2787 - val_accuracy: 0.8916\n",
      "Epoch 36/80\n",
      "48000/48000 [==============================] - 204s 4ms/sample - loss: 0.2068 - accuracy: 0.9206 - val_loss: 0.2484 - val_accuracy: 0.9039\n",
      "Epoch 37/80\n",
      "48000/48000 [==============================] - 208s 4ms/sample - loss: 0.2001 - accuracy: 0.9230 - val_loss: 0.2468 - val_accuracy: 0.9027\n",
      "Epoch 38/80\n",
      "48000/48000 [==============================] - 212s 4ms/sample - loss: 0.1929 - accuracy: 0.9250 - val_loss: 0.2544 - val_accuracy: 0.9027\n",
      "Epoch 39/80\n",
      "48000/48000 [==============================] - 210s 4ms/sample - loss: 0.1981 - accuracy: 0.9227 - val_loss: 0.4154 - val_accuracy: 0.8467\n",
      "Epoch 40/80\n",
      "48000/48000 [==============================] - 207s 4ms/sample - loss: 0.1966 - accuracy: 0.9239 - val_loss: 0.2476 - val_accuracy: 0.9045\n",
      "Epoch 41/80\n",
      "48000/48000 [==============================] - 201s 4ms/sample - loss: 0.1877 - accuracy: 0.9282 - val_loss: 0.2538 - val_accuracy: 0.9007\n",
      "Epoch 42/80\n",
      "48000/48000 [==============================] - 205s 4ms/sample - loss: 0.1955 - accuracy: 0.9247 - val_loss: 0.2483 - val_accuracy: 0.9033\n",
      "Epoch 43/80\n",
      "48000/48000 [==============================] - 197s 4ms/sample - loss: 0.1888 - accuracy: 0.9275 - val_loss: 0.2568 - val_accuracy: 0.9023\n",
      "Epoch 44/80\n",
      "48000/48000 [==============================] - 210s 4ms/sample - loss: 0.1844 - accuracy: 0.9290 - val_loss: 0.2512 - val_accuracy: 0.9032\n",
      "Epoch 45/80\n",
      "48000/48000 [==============================] - 211s 4ms/sample - loss: 0.1785 - accuracy: 0.9328 - val_loss: 0.2998 - val_accuracy: 0.8845\n",
      "Epoch 46/80\n",
      "48000/48000 [==============================] - 219s 5ms/sample - loss: 0.1820 - accuracy: 0.9312 - val_loss: 0.2402 - val_accuracy: 0.9095\n",
      "Epoch 47/80\n",
      "48000/48000 [==============================] - 219s 5ms/sample - loss: 0.1774 - accuracy: 0.9319 - val_loss: 0.2380 - val_accuracy: 0.9078\n",
      "Epoch 48/80\n",
      "48000/48000 [==============================] - 217s 5ms/sample - loss: 0.1745 - accuracy: 0.9330 - val_loss: 0.3167 - val_accuracy: 0.8851\n",
      "Epoch 49/80\n",
      "48000/48000 [==============================] - 210s 4ms/sample - loss: 0.1701 - accuracy: 0.9355 - val_loss: 0.2517 - val_accuracy: 0.9076\n",
      "Epoch 50/80\n",
      "48000/48000 [==============================] - 201s 4ms/sample - loss: 0.1700 - accuracy: 0.9349 - val_loss: 0.2626 - val_accuracy: 0.9010\n",
      "Epoch 51/80\n",
      "48000/48000 [==============================] - 203s 4ms/sample - loss: 0.1701 - accuracy: 0.9346 - val_loss: 0.2574 - val_accuracy: 0.9057\n",
      "Epoch 52/80\n",
      "48000/48000 [==============================] - 203s 4ms/sample - loss: 0.1712 - accuracy: 0.9349 - val_loss: 0.2645 - val_accuracy: 0.8993\n",
      "Epoch 53/80\n",
      "48000/48000 [==============================] - 196s 4ms/sample - loss: 0.1688 - accuracy: 0.9357 - val_loss: 0.2484 - val_accuracy: 0.9055\n",
      "Epoch 54/80\n",
      "48000/48000 [==============================] - 209s 4ms/sample - loss: 0.1642 - accuracy: 0.9376 - val_loss: 0.2438 - val_accuracy: 0.9082\n"
     ]
    },
    {
     "name": "stdout",
     "output_type": "stream",
     "text": [
      "Epoch 55/80\n",
      "48000/48000 [==============================] - 209s 4ms/sample - loss: 0.1627 - accuracy: 0.9375 - val_loss: 0.2469 - val_accuracy: 0.9075\n",
      "Epoch 56/80\n",
      "48000/48000 [==============================] - 208s 4ms/sample - loss: 0.1595 - accuracy: 0.9402 - val_loss: 0.2555 - val_accuracy: 0.9079\n",
      "Epoch 57/80\n",
      "48000/48000 [==============================] - 194s 4ms/sample - loss: 0.1617 - accuracy: 0.9381 - val_loss: 0.2508 - val_accuracy: 0.9093\n",
      "Epoch 58/80\n",
      "48000/48000 [==============================] - 216s 4ms/sample - loss: 0.1580 - accuracy: 0.9409 - val_loss: 0.3180 - val_accuracy: 0.8835\n",
      "Epoch 59/80\n",
      "48000/48000 [==============================] - 222s 5ms/sample - loss: 0.1580 - accuracy: 0.9403 - val_loss: 0.2440 - val_accuracy: 0.9090\n",
      "Epoch 60/80\n",
      "48000/48000 [==============================] - 209s 4ms/sample - loss: 0.1560 - accuracy: 0.9418 - val_loss: 0.2484 - val_accuracy: 0.9074\n",
      "Epoch 61/80\n",
      "48000/48000 [==============================] - 208s 4ms/sample - loss: 0.1539 - accuracy: 0.9410 - val_loss: 0.2506 - val_accuracy: 0.9077\n",
      "Epoch 62/80\n",
      "48000/48000 [==============================] - 209s 4ms/sample - loss: 0.1550 - accuracy: 0.9406 - val_loss: 0.2450 - val_accuracy: 0.9093\n",
      "Epoch 63/80\n",
      "48000/48000 [==============================] - 244s 5ms/sample - loss: 0.1541 - accuracy: 0.9415 - val_loss: 0.2563 - val_accuracy: 0.9076\n",
      "Epoch 64/80\n",
      "48000/48000 [==============================] - 229s 5ms/sample - loss: 0.1494 - accuracy: 0.9438 - val_loss: 0.2637 - val_accuracy: 0.9042\n",
      "Epoch 65/80\n",
      "48000/48000 [==============================] - 217s 5ms/sample - loss: 0.1508 - accuracy: 0.9417 - val_loss: 0.2598 - val_accuracy: 0.9047\n",
      "Epoch 66/80\n",
      "48000/48000 [==============================] - 206s 4ms/sample - loss: 0.1481 - accuracy: 0.9436 - val_loss: 0.2408 - val_accuracy: 0.9112\n",
      "Epoch 67/80\n",
      "48000/48000 [==============================] - 207s 4ms/sample - loss: 0.1511 - accuracy: 0.9427 - val_loss: 0.2492 - val_accuracy: 0.9088\n",
      "Epoch 68/80\n",
      "48000/48000 [==============================] - 207s 4ms/sample - loss: 0.1449 - accuracy: 0.9448 - val_loss: 0.2518 - val_accuracy: 0.9109\n",
      "Epoch 69/80\n",
      "48000/48000 [==============================] - 199s 4ms/sample - loss: 0.1424 - accuracy: 0.9470 - val_loss: 0.2497 - val_accuracy: 0.9096\n",
      "Epoch 70/80\n",
      "48000/48000 [==============================] - 196s 4ms/sample - loss: 0.1421 - accuracy: 0.9464 - val_loss: 0.2503 - val_accuracy: 0.9112\n",
      "Epoch 71/80\n",
      "48000/48000 [==============================] - 203s 4ms/sample - loss: 0.1402 - accuracy: 0.9469 - val_loss: 0.2582 - val_accuracy: 0.9060\n",
      "Epoch 72/80\n",
      "48000/48000 [==============================] - 218s 5ms/sample - loss: 0.1354 - accuracy: 0.9491 - val_loss: 0.2581 - val_accuracy: 0.9102\n",
      "Epoch 73/80\n",
      "48000/48000 [==============================] - 217s 5ms/sample - loss: 0.1373 - accuracy: 0.9482 - val_loss: 0.2621 - val_accuracy: 0.9058\n",
      "Epoch 74/80\n",
      "48000/48000 [==============================] - 208s 4ms/sample - loss: 0.1405 - accuracy: 0.9472 - val_loss: 0.2618 - val_accuracy: 0.9068\n",
      "Epoch 75/80\n",
      "48000/48000 [==============================] - 212s 4ms/sample - loss: 0.1294 - accuracy: 0.9508 - val_loss: 0.2577 - val_accuracy: 0.9066\n",
      "Epoch 76/80\n",
      "48000/48000 [==============================] - 217s 5ms/sample - loss: 0.1370 - accuracy: 0.9480 - val_loss: 0.2841 - val_accuracy: 0.8980\n",
      "Epoch 77/80\n",
      "48000/48000 [==============================] - 211s 4ms/sample - loss: 0.1418 - accuracy: 0.9484 - val_loss: 0.2552 - val_accuracy: 0.9064\n",
      "Epoch 78/80\n",
      "48000/48000 [==============================] - 204s 4ms/sample - loss: 0.1326 - accuracy: 0.9509 - val_loss: 0.2566 - val_accuracy: 0.9063\n",
      "Epoch 79/80\n",
      "48000/48000 [==============================] - 205s 4ms/sample - loss: 0.1311 - accuracy: 0.9505 - val_loss: 0.2782 - val_accuracy: 0.9029\n",
      "Epoch 80/80\n",
      "48000/48000 [==============================] - 212s 4ms/sample - loss: 0.1310 - accuracy: 0.9515 - val_loss: 0.2506 - val_accuracy: 0.9122\n"
     ]
    }
   ],
   "source": [
    "#fitting the cnn model\n",
    "history=cnn.fit(x_train,y_train,epochs=80,validation_data=[x_val,y_val])"
   ]
  },
  {
   "cell_type": "code",
   "execution_count": 59,
   "metadata": {},
   "outputs": [],
   "source": [
    "def accuracy(x,y):\n",
    "    iter=0\n",
    "    for i in tqdm(range(len(y))):\n",
    "                  prediction=cnn.predict(x[i:i+1])\n",
    "                  if np.argmax(prediction)==np.argmax(y[i]):\n",
    "                       iter=iter+1\n",
    "    return iter/len(y)"
   ]
  },
  {
   "cell_type": "code",
   "execution_count": 60,
   "metadata": {},
   "outputs": [
    {
     "name": "stderr",
     "output_type": "stream",
     "text": [
      "100%|██████████| 12000/12000 [07:11<00:00, 27.79it/s]\n"
     ]
    },
    {
     "data": {
      "text/plain": [
       "0.9121666666666667"
      ]
     },
     "execution_count": 60,
     "metadata": {},
     "output_type": "execute_result"
    }
   ],
   "source": [
    "#calculating max accuracy on val dataset obtained\n",
    "accuracy(x_val,y_val)"
   ]
  },
  {
   "cell_type": "markdown",
   "metadata": {},
   "source": [
    "##### FOUR LAYER CNN RESULTS ON VALIDATION DATASET\n",
    "The current model is fitted on the 48000 data samples from the training dataset and when tested upon the 12000 data samples from the validation dataset the accuracy optained is 91.21 percentage which is an improvement of three percent from the previous three layer model."
   ]
  },
  {
   "cell_type": "code",
   "execution_count": 61,
   "metadata": {},
   "outputs": [],
   "source": [
    "#prediction on test data\n",
    "pred=cnn.predict(x_test)\n",
    "pred=np.argmax(pred,axis=1)\n",
    "df=pd.DataFrame(pred)\n",
    "df.index+=0\n",
    "df.index.name='Id'\n",
    "df.columns=['Label']\n",
    "df.to_csv('result_trail_1',header='true')"
   ]
  },
  {
   "cell_type": "code",
   "execution_count": 62,
   "metadata": {},
   "outputs": [
    {
     "data": {
      "image/png": "[encoded data removed]",
      "text/plain": [
       "<Figure size 432x288 with 1 Axes>"
      ]
     },
     "metadata": {
      "needs_background": "light"
     },
     "output_type": "display_data"
    }
   ],
   "source": [
    "#graph plot for epochs and loss\n",
    "\n",
    "plt.plot(history.history['loss'])\n",
    "plt.plot(history.history['val_loss'])\n",
    "plt.title(\"Loss\")\n",
    "plt.xlabel('Epochs')\n",
    "plt.ylabel('Loss')\n",
    "plt.legend(['Train', 'Validation'])\n",
    "plt.show()"
   ]
  },
  {
   "cell_type": "code",
   "execution_count": 63,
   "metadata": {},
   "outputs": [
    {
     "data": {
      "image/png": "[encoded data removed]",
      "text/plain": [
       "<Figure size 432x288 with 1 Axes>"
      ]
     },
     "metadata": {
      "needs_background": "light"
     },
     "output_type": "display_data"
    }
   ],
   "source": [
    "#graph plot for epochs and accuracy\n",
    "\n",
    "plt.plot(history.history['accuracy'])\n",
    "plt.plot(history.history['val_accuracy'])\n",
    "plt.title(\"Accuracy\")\n",
    "plt.xlabel('Epochs')\n",
    "plt.ylabel('Accuracy')\n",
    "plt.legend(['Train', 'Validation'])\n",
    "plt.show()"
   ]
  },
  {
   "cell_type": "markdown",
   "metadata": {},
   "source": [
    "##### GRAPH ANALYSIS\n",
    "\n",
    "###### EPOCHS VS LOSS\n",
    "For the initial epochs the loss value is more and as the number of epochs increases the loss value decreases but around 30-35 epoch the local minima is optained and the model becomes overfit and the loss value gets stuck in the local minima.So tuning the model till 35 epochs gives a better model.\n",
    "\n",
    "###### EPOCHS VS ACCURACY\n",
    "As the number of epochs increases the model learns from the training data and the accuracy increases gradually and it reaches upto 90 percentage at the 40th iteration.The classication done on the validation dataset is better than the previous basemodel.After 40 epochs the model overfits."
   ]
  },
  {
   "cell_type": "markdown",
   "metadata": {},
   "source": [
    "#####  2.4 KAGGLE SUBMISSION - FOUR LAYER CNN ON TEST DATA\n",
    "In this model,we have used four convolution layers with batch normalization and dropout after every layer along with adam optimizer.Intially when ran for test data prediction the acuracy obtained was 85.42 after fine tuning the batch size,drop out values and adding fully connected layer the accuracy improved to 89 percent and further by adding learning rate for adam optimizer the final improved accuracy obtained was 90.92.The acCuracy improvement and the minimization of the loss function is achieved."
   ]
  },
  {
   "cell_type": "markdown",
   "metadata": {},
   "source": [
    "#### OTHER ALTERNATIVES TO CNN\n",
    "\n",
    "Fashion MNIST is a image classification probelm.The CNNs have several different filters/kernels consisting of trainable parameters which can convolve on a given image spatially to detect features like edges and shapes. These high number of filters essentially learn to capture spatial features from the image based on the learned weights through back propagation and stacked layers of filters can be used to detect complex spatial shapes from the spatial features at every subsequent level.\n",
    "\n",
    "However there are other solutions to image classification like AlexNet,LeNet,VGG16,VGG19,RESNET etc\n",
    "\n",
    "We have tried and implemented vgg19 and resnet model using transfer learning\n",
    "\n",
    "##### TRANSFER LEARNING\n",
    "A pre-trained network is a saved network that was previously trained on a large dataset, typically on a large-scale image-classification task. If this original dataset is large enough and general enough, then the spatial hierarchy of features learned by the pre-trained network can effectively act as a generic model of the data.We are using Imagenet for vgg19\n"
   ]
  },
  {
   "cell_type": "markdown",
   "metadata": {},
   "source": [
    "##### IMPLEMENTATION OF PRE-TRAINED VGG19  (2.5.2 result analysis explained)\n",
    "\n",
    "VGG-19 is a convolutional neural network that is 19 layers deep.It requires data to be reshaped to three color channels.Before the input tensor is passes into the neural network we need to reshape the data to 150 x 150 pixels.Because of this reshaping of the input tensors vgg-19 is more memory consuming.So,I have took a subset of the data (10000 samples) into consideration to implement vgg19.Further this 10000 dataset is split into training and validation dataset.Once the pretrained model is build a fully connected softmax dense layer is added and the adam optimizer is initialized."
   ]
  },
  {
   "cell_type": "code",
   "execution_count": 0,
   "metadata": {
    "colab": {
     "base_uri": "https://localhost:8080/",
     "height": 52
    },
    "colab_type": "code",
    "id": "FHiWQ2wB7IQV",
    "outputId": "534ce253-8128-4d25-ce5a-8304525e6eda"
   },
   "outputs": [
    {
     "name": "stderr",
     "output_type": "stream",
     "text": [
      "Using TensorFlow backend.\n"
     ]
    },
    {
     "name": "stdout",
     "output_type": "stream",
     "text": [
      "time: 1.6 s\n"
     ]
    }
   ],
   "source": [
    "import keras\n",
    "from keras.layers import Dense, Conv2D, BatchNormalization, Activation\n",
    "from keras.layers import MaxPooling2D, AveragePooling2D, Input, Flatten\n",
    "from keras.optimizers import Adam\n",
    "from keras.callbacks import ModelCheckpoint, ReduceLROnPlateau\n",
    "from keras.preprocessing.image import ImageDataGenerator\n",
    "from keras.regularizers import l2\n",
    "from keras import backend as K\n",
    "from keras.models import Model\n",
    "from keras.utils import to_categorical\n",
    "import numpy as np\n",
    "import os\n",
    "import pandas as pd\n",
    "import matplotlib.pyplot as plt\n",
    "%matplotlib inline"
   ]
  },
  {
   "cell_type": "code",
   "execution_count": 0,
   "metadata": {
    "colab": {
     "base_uri": "https://localhost:8080/",
     "height": 35
    },
    "colab_type": "code",
    "id": "wz-cgNkZ7O-O",
    "outputId": "45bfd786-2119-437c-e4f6-5b7bd75bfcbf"
   },
   "outputs": [
    {
     "name": "stdout",
     "output_type": "stream",
     "text": [
      "time: 5.81 s\n"
     ]
    }
   ],
   "source": [
    "#Loading the dataset Fashion MNIST\n",
    "train_data=pd.read_csv(\"train/train.csv\")\n",
    "test_data=pd.read_csv(\"test/testX.csv\")\n"
   ]
  },
  {
   "cell_type": "code",
   "execution_count": 0,
   "metadata": {
    "colab": {
     "base_uri": "https://localhost:8080/",
     "height": 69
    },
    "colab_type": "code",
    "id": "yQwbu6dP7b7b",
    "outputId": "cbea7f1e-ff0e-40fd-917a-b21473c5e93f"
   },
   "outputs": [
    {
     "name": "stdout",
     "output_type": "stream",
     "text": [
      "Train: (60000, 786)\n",
      "Test: (10000, 785)\n",
      "time: 315 ms\n"
     ]
    }
   ],
   "source": [
    "df_train=train_data.copy()\n",
    "df_test=test_data.copy()\n",
    "\n",
    "print(\"Train:\",df_train.shape)\n",
    "print(\"Test:\",df_test.shape)\n",
    "df_train.drop('Id',axis=1,inplace=True)\n"
   ]
  },
  {
   "cell_type": "code",
   "execution_count": 0,
   "metadata": {
    "colab": {
     "base_uri": "https://localhost:8080/",
     "height": 35
    },
    "colab_type": "code",
    "id": "3lORIpvP70IO",
    "outputId": "36f770e3-db5b-4104-a60a-a24174af0001"
   },
   "outputs": [
    {
     "name": "stdout",
     "output_type": "stream",
     "text": [
      "time: 4.55 ms\n"
     ]
    }
   ],
   "source": [
    "#Features and label split\n",
    "X=df_train.iloc[0:10000,1:]\n",
    "y=df_train['Label'].iloc[0:10000]\n",
    "X_test=df_test.iloc[0:10000,1:]"
   ]
  },
  {
   "cell_type": "code",
   "execution_count": 0,
   "metadata": {
    "colab": {
     "base_uri": "https://localhost:8080/",
     "height": 35
    },
    "colab_type": "code",
    "id": "oNz1Tc648H8O",
    "outputId": "ed909086-afed-449c-e446-da515793cce9"
   },
   "outputs": [
    {
     "data": {
      "text/plain": [
       "(10000, 5)"
      ]
     },
     "execution_count": 10,
     "metadata": {
      "tags": []
     },
     "output_type": "execute_result"
    },
    {
     "name": "stdout",
     "output_type": "stream",
     "text": [
      "time: 4.05 ms\n"
     ]
    }
   ],
   "source": [
    "# one hot encode target values\n",
    "trainY = to_categorical(y,num_classes=5)\n",
    "trainY.shape"
   ]
  },
  {
   "cell_type": "code",
   "execution_count": 0,
   "metadata": {
    "colab": {
     "base_uri": "https://localhost:8080/",
     "height": 35
    },
    "colab_type": "code",
    "id": "bwOgEpb7bOA1",
    "outputId": "6eecb08f-4d53-4db9-e981-4759e3c4ae18"
   },
   "outputs": [
    {
     "data": {
      "text/plain": [
       "((10000, 784, 3), (10000, 784, 3))"
      ]
     },
     "execution_count": 11,
     "metadata": {
      "tags": []
     },
     "output_type": "execute_result"
    },
    {
     "name": "stdout",
     "output_type": "stream",
     "text": [
      "time: 204 ms\n"
     ]
    }
   ],
   "source": [
    "# Convert the training and test images into 3 channels\n",
    "X = np.dstack([X] * 3)\n",
    "X_test = np.dstack([X_test]*3)\n",
    "\n",
    "# Display their new shapes\n",
    "X.shape, X_test.shape"
   ]
  },
  {
   "cell_type": "code",
   "execution_count": 0,
   "metadata": {
    "colab": {
     "base_uri": "https://localhost:8080/",
     "height": 35
    },
    "colab_type": "code",
    "id": "RNBDHcb-bUJR",
    "outputId": "9f48bf21-859c-4a43-c164-f75b372dc594"
   },
   "outputs": [
    {
     "data": {
      "text/plain": [
       "((10000, 28, 28, 3), (10000, 28, 28, 3))"
      ]
     },
     "execution_count": 12,
     "metadata": {
      "tags": []
     },
     "output_type": "execute_result"
    },
    {
     "name": "stdout",
     "output_type": "stream",
     "text": [
      "time: 5.9 ms\n"
     ]
    }
   ],
   "source": [
    "# Reshape images as per the tensor format required by tensorflow\n",
    "X = X.reshape(-1, 28,28,3)\n",
    "X_test= X_test.reshape (-1,28,28,3)\n",
    "\n",
    "# Display the new shape\n",
    "X.shape, X_test.shape"
   ]
  },
  {
   "cell_type": "code",
   "execution_count": 0,
   "metadata": {
    "colab": {
     "base_uri": "https://localhost:8080/",
     "height": 35
    },
    "colab_type": "code",
    "id": "LSyFiKkhblhk",
    "outputId": "ae7771ff-b7c1-4003-b85a-952a087378fd"
   },
   "outputs": [
    {
     "data": {
      "text/plain": [
       "((10000, 150, 150, 3), (10000, 150, 150, 3))"
      ]
     },
     "execution_count": 13,
     "metadata": {
      "tags": []
     },
     "output_type": "execute_result"
    },
    {
     "name": "stdout",
     "output_type": "stream",
     "text": [
      "time: 38.1 s\n"
     ]
    }
   ],
   "source": [
    "# Resize the images as 150 * 150 as required by VGG19\n",
    "from keras.preprocessing.image import img_to_array, array_to_img\n",
    "\n",
    "X = np.asarray([img_to_array(array_to_img(im, scale=False).resize((150,150))) for im in X])\n",
    "X_test = np.asarray([img_to_array(array_to_img(im, scale=False).resize((150,150))) for im in X_test])\n",
    "\n",
    "# Display the new shape\n",
    "X.shape, X_test.shape"
   ]
  },
  {
   "cell_type": "code",
   "execution_count": 0,
   "metadata": {
    "colab": {
     "base_uri": "https://localhost:8080/",
     "height": 35
    },
    "colab_type": "code",
    "id": "Ltcz9gQi8TAq",
    "outputId": "6f45be55-7351-40d5-9775-40872c7f5dfc"
   },
   "outputs": [
    {
     "name": "stdout",
     "output_type": "stream",
     "text": [
      "time: 2.3 s\n"
     ]
    }
   ],
   "source": [
    "# Normalise the data and change data type\n",
    "X = X.astype('float32')\n",
    "X /= 255\n",
    "\n",
    "X_test = X_test.astype('float32')\n",
    "X_test /= 255"
   ]
  },
  {
   "cell_type": "code",
   "execution_count": 0,
   "metadata": {
    "colab": {
     "base_uri": "https://localhost:8080/",
     "height": 35
    },
    "colab_type": "code",
    "id": "7vXiwPKW_Q7g",
    "outputId": "065413dd-7607-4a8d-8f34-d6b41ed2c391"
   },
   "outputs": [
    {
     "data": {
      "text/plain": [
       "((8000, 150, 150, 3), (2000, 150, 150, 3), (8000, 5), (2000, 5))"
      ]
     },
     "execution_count": 15,
     "metadata": {
      "tags": []
     },
     "output_type": "execute_result"
    },
    {
     "name": "stdout",
     "output_type": "stream",
     "text": [
      "time: 1.11 s\n"
     ]
    }
   ],
   "source": [
    "from sklearn.model_selection import train_test_split\n",
    "X_train, X_val, y_train, y_val = train_test_split(X, trainY, test_size=0.2, random_state=42)\n",
    "\n",
    "# Check the data size whether it is as per tensorflow and VGG19 requirement\n",
    "X_train.shape, X_val.shape, y_train.shape, y_val.shape"
   ]
  },
  {
   "cell_type": "code",
   "execution_count": 0,
   "metadata": {
    "colab": {
     "base_uri": "https://localhost:8080/",
     "height": 89
    },
    "colab_type": "code",
    "id": "zY9TMmur86ht",
    "outputId": "93b5aa5c-93c4-47eb-cbc0-91b06cb6ecb0"
   },
   "outputs": [
    {
     "name": "stdout",
     "output_type": "stream",
     "text": [
      "Downloading data from https://github.com/fchollet/deep-learning-models/releases/download/v0.1/vgg19_weights_tf_dim_ordering_tf_kernels_notop.h5\n",
      "80142336/80134624 [==============================] - 3s 0us/step\n",
      "time: 10.8 s\n"
     ]
    }
   ],
   "source": [
    "from keras.applications import VGG19\n",
    "# Create the base model of VGG19\n",
    "vgg19 = VGG19(weights='imagenet', include_top=False, input_shape = (150, 150, 3), classes = 5)"
   ]
  },
  {
   "cell_type": "code",
   "execution_count": 0,
   "metadata": {
    "colab": {
     "base_uri": "https://localhost:8080/",
     "height": 936
    },
    "colab_type": "code",
    "id": "j_tIBUedCIBR",
    "outputId": "3369d206-c125-4d1b-c99e-7488bd727f76"
   },
   "outputs": [
    {
     "name": "stdout",
     "output_type": "stream",
     "text": [
      "Model: \"vgg19\"\n",
      "_________________________________________________________________\n",
      "Layer (type)                 Output Shape              Param #   \n",
      "=================================================================\n",
      "input_1 (InputLayer)         (None, 150, 150, 3)       0         \n",
      "_________________________________________________________________\n",
      "block1_conv1 (Conv2D)        (None, 150, 150, 64)      1792      \n",
      "_________________________________________________________________\n",
      "block1_conv2 (Conv2D)        (None, 150, 150, 64)      36928     \n",
      "_________________________________________________________________\n",
      "block1_pool (MaxPooling2D)   (None, 75, 75, 64)        0         \n",
      "_________________________________________________________________\n",
      "block2_conv1 (Conv2D)        (None, 75, 75, 128)       73856     \n",
      "_________________________________________________________________\n",
      "block2_conv2 (Conv2D)        (None, 75, 75, 128)       147584    \n",
      "_________________________________________________________________\n",
      "block2_pool (MaxPooling2D)   (None, 37, 37, 128)       0         \n",
      "_________________________________________________________________\n",
      "block3_conv1 (Conv2D)        (None, 37, 37, 256)       295168    \n",
      "_________________________________________________________________\n",
      "block3_conv2 (Conv2D)        (None, 37, 37, 256)       590080    \n",
      "_________________________________________________________________\n",
      "block3_conv3 (Conv2D)        (None, 37, 37, 256)       590080    \n",
      "_________________________________________________________________\n",
      "block3_conv4 (Conv2D)        (None, 37, 37, 256)       590080    \n",
      "_________________________________________________________________\n",
      "block3_pool (MaxPooling2D)   (None, 18, 18, 256)       0         \n",
      "_________________________________________________________________\n",
      "block4_conv1 (Conv2D)        (None, 18, 18, 512)       1180160   \n",
      "_________________________________________________________________\n",
      "block4_conv2 (Conv2D)        (None, 18, 18, 512)       2359808   \n",
      "_________________________________________________________________\n",
      "block4_conv3 (Conv2D)        (None, 18, 18, 512)       2359808   \n",
      "_________________________________________________________________\n",
      "block4_conv4 (Conv2D)        (None, 18, 18, 512)       2359808   \n",
      "_________________________________________________________________\n",
      "block4_pool (MaxPooling2D)   (None, 9, 9, 512)         0         \n",
      "_________________________________________________________________\n",
      "block5_conv1 (Conv2D)        (None, 9, 9, 512)         2359808   \n",
      "_________________________________________________________________\n",
      "block5_conv2 (Conv2D)        (None, 9, 9, 512)         2359808   \n",
      "_________________________________________________________________\n",
      "block5_conv3 (Conv2D)        (None, 9, 9, 512)         2359808   \n",
      "_________________________________________________________________\n",
      "block5_conv4 (Conv2D)        (None, 9, 9, 512)         2359808   \n",
      "_________________________________________________________________\n",
      "block5_pool (MaxPooling2D)   (None, 4, 4, 512)         0         \n",
      "=================================================================\n",
      "Total params: 20,024,384\n",
      "Trainable params: 20,024,384\n",
      "Non-trainable params: 0\n",
      "_________________________________________________________________\n",
      "time: 8.93 ms\n"
     ]
    }
   ],
   "source": [
    "vgg19.summary()"
   ]
  },
  {
   "cell_type": "code",
   "execution_count": 0,
   "metadata": {
    "colab": {
     "base_uri": "https://localhost:8080/",
     "height": 35
    },
    "colab_type": "code",
    "id": "xhLh_KB4dl-4",
    "outputId": "fb40ae3c-ee83-4a0c-94e2-cbd9779d2279"
   },
   "outputs": [
    {
     "name": "stdout",
     "output_type": "stream",
     "text": [
      "time: 2.31 s\n"
     ]
    }
   ],
   "source": [
    "from keras.applications.vgg19 import preprocess_input\n",
    "\n",
    "# Preprocessing the input \n",
    "X_train = preprocess_input(X_train)\n",
    "X_val = preprocess_input(X_val)\n",
    "X_test = preprocess_input(X_test)"
   ]
  },
  {
   "cell_type": "code",
   "execution_count": 0,
   "metadata": {
    "colab": {
     "base_uri": "https://localhost:8080/",
     "height": 87
    },
    "colab_type": "code",
    "id": "gM5q-xKVdtJf",
    "outputId": "d2a8f9e3-f18b-4b9c-b354-972b9514f195"
   },
   "outputs": [
    {
     "name": "stdout",
     "output_type": "stream",
     "text": [
      "8000/8000 [==============================] - 58s 7ms/step\n",
      "10000/10000 [==============================] - 52s 5ms/step\n",
      "2000/2000 [==============================] - 18s 9ms/step\n",
      "time: 2min 11s\n"
     ]
    }
   ],
   "source": [
    "# Extracting features\n",
    "train_features = vgg19.predict(np.array(X_train), batch_size=256, verbose=1)\n",
    "test_features = vgg19.predict(np.array(X_test), batch_size=256, verbose=1)\n",
    "val_features = vgg19.predict(np.array(X_val), batch_size=256, verbose=1)"
   ]
  },
  {
   "cell_type": "code",
   "execution_count": 0,
   "metadata": {
    "colab": {
     "base_uri": "https://localhost:8080/",
     "height": 35
    },
    "colab_type": "code",
    "id": "VDtJeGxRdwuE",
    "outputId": "e3487a70-9307-4da0-bfde-617239d4e38e"
   },
   "outputs": [
    {
     "name": "stdout",
     "output_type": "stream",
     "text": [
      "time: 957 ms\n"
     ]
    }
   ],
   "source": [
    "# Saving the features so that they can be used for future\n",
    "np.savez(\"train_features\", train_features, y_train)\n",
    "np.savez(\"val_features\", val_features, y_val)"
   ]
  },
  {
   "cell_type": "code",
   "execution_count": 0,
   "metadata": {
    "colab": {
     "base_uri": "https://localhost:8080/",
     "height": 87
    },
    "colab_type": "code",
    "id": "K6kj4aXmd7no",
    "outputId": "d6fc3133-0ede-4df4-b58f-1d2b054f93d1"
   },
   "outputs": [
    {
     "name": "stdout",
     "output_type": "stream",
     "text": [
      "(8000, 4, 4, 512) \n",
      " (10000, 4, 4, 512) \n",
      " (2000, 4, 4, 512)\n",
      "time: 1.53 ms\n"
     ]
    }
   ],
   "source": [
    "# Current shape of features\n",
    "print(train_features.shape, \"\\n\",  test_features.shape, \"\\n\", val_features.shape)"
   ]
  },
  {
   "cell_type": "code",
   "execution_count": 0,
   "metadata": {
    "colab": {
     "base_uri": "https://localhost:8080/",
     "height": 35
    },
    "colab_type": "code",
    "id": "2Ag3Egt3d_GE",
    "outputId": "ca8478a3-0039-41c3-a7a1-30c5bbc85927"
   },
   "outputs": [
    {
     "name": "stdout",
     "output_type": "stream",
     "text": [
      "time: 1.81 ms\n"
     ]
    }
   ],
   "source": [
    "# Flatten extracted features\n",
    "train_features = np.reshape(train_features, (8000, 4*4*512))\n",
    "test_features = np.reshape(test_features, (10000, 4*4*512))\n",
    "val_features = np.reshape(val_features, (2000, 4*4*512))"
   ]
  },
  {
   "cell_type": "code",
   "execution_count": 0,
   "metadata": {
    "colab": {
     "base_uri": "https://localhost:8080/",
     "height": 35
    },
    "colab_type": "code",
    "id": "GmaAEmtFeICB",
    "outputId": "abb24f87-2b1a-4c43-ead6-b784d383cae2"
   },
   "outputs": [
    {
     "name": "stdout",
     "output_type": "stream",
     "text": [
      "time: 42.8 ms\n"
     ]
    }
   ],
   "source": [
    "from keras.layers import Dense, Dropout\n",
    "from keras.models import Model\n",
    "from keras import models\n",
    "from keras import layers\n",
    "from keras import optimizers\n",
    "\n",
    "# Add Dense and Dropout layers on top of VGG19 pre-trained\n",
    "model = models.Sequential()\n",
    "model.add(layers.Dense(512, activation='relu', input_dim=4 * 4 * 512))\n",
    "model.add(layers.Dropout(0.5))\n",
    "model.add(layers.Dense(5, activation=\"softmax\"))"
   ]
  },
  {
   "cell_type": "code",
   "execution_count": 0,
   "metadata": {
    "colab": {
     "base_uri": "https://localhost:8080/",
     "height": 35
    },
    "colab_type": "code",
    "id": "8Y9kJYZseMW2",
    "outputId": "13d0d981-5304-4e55-cefa-9086fd13bcc1"
   },
   "outputs": [
    {
     "name": "stdout",
     "output_type": "stream",
     "text": [
      "time: 60.4 ms\n"
     ]
    }
   ],
   "source": [
    "import keras\n",
    "op=optimizers.Adam(learning_rate=0.001)\n",
    "# Compile the model\n",
    "model.compile(loss=keras.losses.categorical_crossentropy,\n",
    "              optimizer=op,\n",
    "              metrics=['accuracy'])"
   ]
  },
  {
   "cell_type": "code",
   "execution_count": 0,
   "metadata": {
    "colab": {
     "base_uri": "https://localhost:8080/",
     "height": 1000
    },
    "colab_type": "code",
    "id": "Hj3cRKgsekKq",
    "outputId": "afea27b8-19bc-49a3-9377-e87fc0b5ac41"
   },
   "outputs": [
    {
     "name": "stdout",
     "output_type": "stream",
     "text": [
      "Train on 8000 samples, validate on 2000 samples\n",
      "Epoch 1/40\n",
      "8000/8000 [==============================] - 1s 67us/step - loss: 1.2817 - accuracy: 0.4354 - val_loss: 1.2376 - val_accuracy: 0.4895\n",
      "Epoch 2/40\n",
      "8000/8000 [==============================] - 1s 65us/step - loss: 1.2548 - accuracy: 0.4457 - val_loss: 1.1909 - val_accuracy: 0.4830\n",
      "Epoch 3/40\n",
      "8000/8000 [==============================] - 1s 64us/step - loss: 1.2206 - accuracy: 0.4564 - val_loss: 1.1598 - val_accuracy: 0.5045\n",
      "Epoch 4/40\n",
      "8000/8000 [==============================] - 1s 63us/step - loss: 1.2102 - accuracy: 0.4658 - val_loss: 1.1695 - val_accuracy: 0.5060\n",
      "Epoch 5/40\n",
      "8000/8000 [==============================] - 1s 63us/step - loss: 1.1978 - accuracy: 0.4664 - val_loss: 1.1374 - val_accuracy: 0.5265\n",
      "Epoch 6/40\n",
      "8000/8000 [==============================] - 0s 62us/step - loss: 1.1951 - accuracy: 0.4667 - val_loss: 1.1220 - val_accuracy: 0.5215\n",
      "Epoch 7/40\n",
      "8000/8000 [==============================] - 0s 62us/step - loss: 1.1892 - accuracy: 0.4711 - val_loss: 1.1172 - val_accuracy: 0.5225\n",
      "Epoch 8/40\n",
      "8000/8000 [==============================] - 0s 62us/step - loss: 1.1929 - accuracy: 0.4755 - val_loss: 1.1137 - val_accuracy: 0.5250\n",
      "Epoch 9/40\n",
      "8000/8000 [==============================] - 0s 62us/step - loss: 1.1591 - accuracy: 0.4848 - val_loss: 1.0852 - val_accuracy: 0.5490\n",
      "Epoch 10/40\n",
      "8000/8000 [==============================] - 0s 62us/step - loss: 1.1407 - accuracy: 0.4996 - val_loss: 1.0677 - val_accuracy: 0.5505\n",
      "Epoch 11/40\n",
      "8000/8000 [==============================] - 0s 61us/step - loss: 1.1358 - accuracy: 0.4992 - val_loss: 1.0732 - val_accuracy: 0.5485\n",
      "Epoch 12/40\n",
      "8000/8000 [==============================] - 0s 62us/step - loss: 1.1335 - accuracy: 0.5015 - val_loss: 1.0905 - val_accuracy: 0.5475\n",
      "Epoch 13/40\n",
      "8000/8000 [==============================] - 0s 62us/step - loss: 1.1330 - accuracy: 0.4980 - val_loss: 1.0489 - val_accuracy: 0.5670\n",
      "Epoch 14/40\n",
      "8000/8000 [==============================] - 0s 62us/step - loss: 1.1086 - accuracy: 0.5116 - val_loss: 1.0590 - val_accuracy: 0.5305\n",
      "Epoch 15/40\n",
      "8000/8000 [==============================] - 0s 61us/step - loss: 1.0998 - accuracy: 0.5134 - val_loss: 1.0504 - val_accuracy: 0.5650\n",
      "Epoch 16/40\n",
      "8000/8000 [==============================] - 0s 62us/step - loss: 1.0982 - accuracy: 0.5182 - val_loss: 1.0144 - val_accuracy: 0.5945\n",
      "Epoch 17/40\n",
      "8000/8000 [==============================] - 0s 61us/step - loss: 1.1050 - accuracy: 0.5115 - val_loss: 1.0310 - val_accuracy: 0.5540\n",
      "Epoch 18/40\n",
      "8000/8000 [==============================] - 0s 62us/step - loss: 1.0903 - accuracy: 0.5144 - val_loss: 1.0458 - val_accuracy: 0.5525\n",
      "Epoch 19/40\n",
      "8000/8000 [==============================] - 0s 61us/step - loss: 1.1198 - accuracy: 0.5048 - val_loss: 1.0416 - val_accuracy: 0.5335\n",
      "Epoch 20/40\n",
      "8000/8000 [==============================] - 0s 61us/step - loss: 1.1146 - accuracy: 0.5075 - val_loss: 1.0466 - val_accuracy: 0.5400\n",
      "Epoch 21/40\n",
      "8000/8000 [==============================] - 0s 61us/step - loss: 1.0916 - accuracy: 0.5144 - val_loss: 1.0474 - val_accuracy: 0.5610\n",
      "Epoch 22/40\n",
      "8000/8000 [==============================] - 0s 62us/step - loss: 1.0930 - accuracy: 0.5150 - val_loss: 1.0267 - val_accuracy: 0.5705\n",
      "Epoch 23/40\n",
      "8000/8000 [==============================] - 0s 61us/step - loss: 1.0740 - accuracy: 0.5320 - val_loss: 1.0117 - val_accuracy: 0.5675\n",
      "Epoch 24/40\n",
      "8000/8000 [==============================] - 0s 60us/step - loss: 1.0954 - accuracy: 0.5128 - val_loss: 1.0239 - val_accuracy: 0.5600\n",
      "Epoch 25/40\n",
      "8000/8000 [==============================] - 0s 61us/step - loss: 1.0937 - accuracy: 0.5114 - val_loss: 1.0212 - val_accuracy: 0.5595\n",
      "Epoch 26/40\n",
      "8000/8000 [==============================] - 0s 61us/step - loss: 1.0961 - accuracy: 0.5081 - val_loss: 0.9845 - val_accuracy: 0.6030\n",
      "Epoch 27/40\n",
      "8000/8000 [==============================] - 0s 60us/step - loss: 1.0872 - accuracy: 0.5176 - val_loss: 0.9997 - val_accuracy: 0.5715\n",
      "Epoch 28/40\n",
      "8000/8000 [==============================] - 0s 61us/step - loss: 1.0922 - accuracy: 0.5149 - val_loss: 0.9907 - val_accuracy: 0.5755\n",
      "Epoch 29/40\n",
      "8000/8000 [==============================] - 0s 61us/step - loss: 1.0737 - accuracy: 0.5265 - val_loss: 0.9993 - val_accuracy: 0.5995\n",
      "Epoch 30/40\n",
      "8000/8000 [==============================] - 0s 61us/step - loss: 1.0673 - accuracy: 0.5299 - val_loss: 1.0060 - val_accuracy: 0.5690\n",
      "Epoch 31/40\n",
      "8000/8000 [==============================] - 0s 60us/step - loss: 1.0748 - accuracy: 0.5129 - val_loss: 1.0019 - val_accuracy: 0.5695\n",
      "Epoch 32/40\n",
      "8000/8000 [==============================] - 0s 61us/step - loss: 1.0662 - accuracy: 0.5297 - val_loss: 1.0393 - val_accuracy: 0.5245\n",
      "Epoch 33/40\n",
      "8000/8000 [==============================] - 0s 60us/step - loss: 1.0602 - accuracy: 0.5278 - val_loss: 0.9655 - val_accuracy: 0.6170\n",
      "Epoch 34/40\n",
      "8000/8000 [==============================] - 0s 61us/step - loss: 1.0538 - accuracy: 0.5297 - val_loss: 1.0059 - val_accuracy: 0.5705\n",
      "Epoch 35/40\n",
      "8000/8000 [==============================] - 0s 62us/step - loss: 1.0784 - accuracy: 0.5139 - val_loss: 1.0329 - val_accuracy: 0.5930\n",
      "Epoch 36/40\n",
      "8000/8000 [==============================] - 1s 63us/step - loss: 1.0784 - accuracy: 0.5257 - val_loss: 0.9638 - val_accuracy: 0.6025\n",
      "Epoch 37/40\n",
      "8000/8000 [==============================] - 1s 63us/step - loss: 1.0377 - accuracy: 0.5443 - val_loss: 0.9522 - val_accuracy: 0.6150\n",
      "Epoch 38/40\n",
      "8000/8000 [==============================] - 0s 62us/step - loss: 1.0516 - accuracy: 0.5364 - val_loss: 0.9901 - val_accuracy: 0.5535\n",
      "Epoch 39/40\n",
      "8000/8000 [==============================] - 1s 63us/step - loss: 1.0570 - accuracy: 0.5346 - val_loss: 0.9997 - val_accuracy: 0.5880\n",
      "Epoch 40/40\n",
      "8000/8000 [==============================] - 1s 63us/step - loss: 1.0863 - accuracy: 0.5222 - val_loss: 0.9928 - val_accuracy: 0.5835\n",
      "time: 19.9 s\n"
     ]
    }
   ],
   "source": [
    "# Train the the model\n",
    "history = model.fit(train_features, y_train,\n",
    "          batch_size=256,\n",
    "          epochs=40,\n",
    "          verbose=1,\n",
    "          validation_data=(val_features, y_val))"
   ]
  },
  {
   "cell_type": "code",
   "execution_count": 0,
   "metadata": {
    "colab": {
     "base_uri": "https://localhost:8080/",
     "height": 563
    },
    "colab_type": "code",
    "id": "uaoa1Z5se0cQ",
    "outputId": "3dd9d02d-d90f-405d-a774-47ab6ef8190f"
   },
   "outputs": [
    {
     "data": {
      "image/png": "[encoded data removed]",
      "text/plain": [
       "<Figure size 432x288 with 1 Axes>"
      ]
     },
     "metadata": {
      "needs_background": "light",
      "tags": []
     },
     "output_type": "display_data"
    },
    {
     "data": {
      "image/png": "[encoded data removed]",
      "text/plain": [
       "<Figure size 432x288 with 1 Axes>"
      ]
     },
     "metadata": {
      "needs_background": "light",
      "tags": []
     },
     "output_type": "display_data"
    },
    {
     "name": "stdout",
     "output_type": "stream",
     "text": [
      "time: 445 ms\n"
     ]
    }
   ],
   "source": [
    "# plot the loss and accuracy\n",
    "import matplotlib.pyplot as plt\n",
    "%matplotlib inline\n",
    "\n",
    "acc = history.history['accuracy']\n",
    "val_acc = history.history['val_accuracy']\n",
    "loss = history.history['loss']\n",
    "val_loss = history.history['val_loss']\n",
    "epochs = range(1, len(acc) + 1)\n",
    "\n",
    "plt.title('Training and validation accuracy')\n",
    "plt.plot(epochs, acc, 'red', label='Training acc')\n",
    "plt.plot(epochs, val_acc, 'blue', label='Validation acc')\n",
    "plt.legend()\n",
    "\n",
    "plt.figure()\n",
    "plt.title('Training and validation loss')\n",
    "plt.plot(epochs, loss, 'red', label='Training loss')\n",
    "plt.plot(epochs, val_loss, 'blue', label='Validation loss')\n",
    "\n",
    "plt.legend()\n",
    "\n",
    "plt.show()"
   ]
  },
  {
   "cell_type": "markdown",
   "metadata": {},
   "source": [
    "##### GRAPH ANALYSIS\n",
    "VGG 19 provides a very bad accuracy for fashion MNIST.For a pretrained model of vgg19 the same number of epochs as the other cnn ran is being run but the accuracy obtained is as low as 55 percent in training dataset as well as test and validation sets.So,VGG19 is unfit for Fashion MNIST dataset."
   ]
  },
  {
   "cell_type": "code",
   "execution_count": 0,
   "metadata": {
    "colab": {
     "base_uri": "https://localhost:8080/",
     "height": 35
    },
    "colab_type": "code",
    "id": "OwUUnRqYxFXi",
    "outputId": "40d4d473-52c5-4b1d-8bb3-9a61a53ad9ef"
   },
   "outputs": [
    {
     "name": "stdout",
     "output_type": "stream",
     "text": [
      "time: 2.84 ms\n"
     ]
    }
   ],
   "source": [
    "\n",
    "def accuracy(x,y):\n",
    "    iter=0\n",
    "    for i in tqdm(range(len(y))):\n",
    "                  prediction=model.predict(x[i:i+1])\n",
    "                  if np.argmax(prediction)==np.argmax(y[i]):\n",
    "                       iter=iter+1\n",
    "    return iter/len(y)"
   ]
  },
  {
   "cell_type": "code",
   "execution_count": 0,
   "metadata": {
    "colab": {
     "base_uri": "https://localhost:8080/",
     "height": 52
    },
    "colab_type": "code",
    "id": "8MW07m8-xQmO",
    "outputId": "d031ef20-7c70-43e5-d798-b898aceb80cc"
   },
   "outputs": [
    {
     "name": "stderr",
     "output_type": "stream",
     "text": [
      "100%|██████████| 2000/2000 [00:03<00:00, 660.15it/s]\n"
     ]
    },
    {
     "data": {
      "text/plain": [
       "0.5835"
      ]
     },
     "execution_count": 31,
     "metadata": {
      "tags": []
     },
     "output_type": "execute_result"
    },
    {
     "name": "stdout",
     "output_type": "stream",
     "text": [
      "time: 3.04 s\n"
     ]
    }
   ],
   "source": [
    "from tqdm import tqdm\n",
    "#calculating max accuracy on val dataset obtained\n",
    "accuracy(val_features, y_val)"
   ]
  },
  {
   "cell_type": "markdown",
   "metadata": {},
   "source": [
    "##### VGG19 RESULTS ON VALIDATION AND TEST DATA SET\n",
    "The pretrained model gives a very less accuracy and uses RAM to the peak because of the tensor shapes.The accuracy obtained is as low as 55 percentage."
   ]
  },
  {
   "cell_type": "markdown",
   "metadata": {},
   "source": [
    "#### RESNET-50 IMPLEMENTATION  (2.5.2 result analysis explained)\n",
    "\n",
    "ResNet-50 is a convolutional neural network that is 50 layers deep.ResNet uses skip connection to add the output from an earlier layer to a later layer. This helps it mitigate the vanishing gradient problem that generally occurs in a deep neural network.We are using an already published RESNET-50 architecture for implementation."
   ]
  },
  {
   "cell_type": "code",
   "execution_count": 6,
   "metadata": {
    "colab": {
     "base_uri": "https://localhost:8080/",
     "height": 105
    },
    "colab_type": "code",
    "id": "mIZtaFy_d-Ej",
    "outputId": "4688c1d8-a792-476b-9d81-a495995614b3"
   },
   "outputs": [
    {
     "name": "stderr",
     "output_type": "stream",
     "text": [
      "Using TensorFlow backend.\n"
     ]
    },
    {
     "name": "stdout",
     "output_type": "stream",
     "text": [
      "time: 1.82 s\n"
     ]
    },
    {
     "name": "stderr",
     "output_type": "stream",
     "text": [
      "/usr/local/lib/python3.6/dist-packages/statsmodels/tools/_testing.py:19: FutureWarning: pandas.util.testing is deprecated. Use the functions in the public API at pandas.testing instead.\n",
      "  import pandas.util.testing as tm\n"
     ]
    }
   ],
   "source": [
    "from keras.applications.resnet50 import preprocess_input, decode_predictions\n",
    "#Data handling with table-like data structures\n",
    "import pandas as pd\n",
    "import numpy as np\n",
    "import math\n",
    "\n",
    "#Modelling Helpers\n",
    "from sklearn.model_selection import train_test_split\n",
    "from sklearn.model_selection import GridSearchCV\n",
    "from sklearn.metrics import confusion_matrix, classification_report\n",
    "from sklearn.decomposition import PCA\n",
    "\n",
    "#Preprocessing\n",
    "from sklearn.feature_selection import chi2\n",
    "\n",
    "#Evaluation metrics:\n",
    "from sklearn.metrics import accuracy_score,precision_score,precision_recall_curve,recall_score,f1_score,plot_roc_curve \n",
    "\n",
    "#Deep learning \n",
    "import tensorflow as tf\n",
    "from tensorflow import keras\n",
    "from tensorflow.keras import layers, models\n",
    "from tensorflow.keras.models import load_model\n",
    "from keras.models import Sequential, load_model\n",
    "from keras.layers import Dense, Dropout, Flatten, Input\n",
    "from keras.layers import Conv2D, MaxPooling2D, BatchNormalization\n",
    "from keras.optimizers import Adam,SGD,Adagrad,Adadelta,RMSprop\n",
    "from keras.preprocessing.image import ImageDataGenerator\n",
    "from keras.callbacks import ReduceLROnPlateau, LearningRateScheduler\n",
    "from keras.utils import to_categorical\n",
    "from keras.layers import Dense, Conv2D, BatchNormalization, Activation\n",
    "from keras.layers import MaxPooling2D, AveragePooling2D, Input, Flatten\n",
    "from keras.optimizers import Adam\n",
    "from keras.callbacks import ModelCheckpoint, ReduceLROnPlateau\n",
    "from keras.preprocessing.image import ImageDataGenerator\n",
    "from keras.regularizers import l2\n",
    "from keras import backend as K\n",
    "from keras.models import Model\n",
    "\n",
    "#Visulization\n",
    "import matplotlib\n",
    "from matplotlib import pyplot as plt\n",
    "import seaborn as sns\n",
    "sns.set(style=\"ticks\", color_codes=True)"
   ]
  },
  {
   "cell_type": "code",
   "execution_count": 7,
   "metadata": {
    "colab": {
     "base_uri": "https://localhost:8080/",
     "height": 304
    },
    "colab_type": "code",
    "id": "jaO4MgUAflJB",
    "outputId": "364f6279-fc0b-4063-8eca-772e458f7603"
   },
   "outputs": [
    {
     "name": "stdout",
     "output_type": "stream",
     "text": [
      "Train: (60000, 786)\n",
      "Test: (10000, 785)\n"
     ]
    },
    {
     "data": {
      "text/html": [
       "<div>\n",
       "<style scoped>\n",
       "    .dataframe tbody tr th:only-of-type {\n",
       "        vertical-align: middle;\n",
       "    }\n",
       "\n",
       "    .dataframe tbody tr th {\n",
       "        vertical-align: top;\n",
       "    }\n",
       "\n",
       "    .dataframe thead th {\n",
       "        text-align: right;\n",
       "    }\n",
       "</style>\n",
       "<table border=\"1\" class=\"dataframe\">\n",
       "  <thead>\n",
       "    <tr style=\"text-align: right;\">\n",
       "      <th></th>\n",
       "      <th>Label</th>\n",
       "      <th>1</th>\n",
       "      <th>2</th>\n",
       "      <th>3</th>\n",
       "      <th>4</th>\n",
       "      <th>5</th>\n",
       "      <th>6</th>\n",
       "      <th>7</th>\n",
       "      <th>8</th>\n",
       "      <th>9</th>\n",
       "      <th>10</th>\n",
       "      <th>11</th>\n",
       "      <th>12</th>\n",
       "      <th>13</th>\n",
       "      <th>14</th>\n",
       "      <th>15</th>\n",
       "      <th>16</th>\n",
       "      <th>17</th>\n",
       "      <th>18</th>\n",
       "      <th>19</th>\n",
       "      <th>20</th>\n",
       "      <th>21</th>\n",
       "      <th>22</th>\n",
       "      <th>23</th>\n",
       "      <th>24</th>\n",
       "      <th>25</th>\n",
       "      <th>26</th>\n",
       "      <th>27</th>\n",
       "      <th>28</th>\n",
       "      <th>29</th>\n",
       "      <th>30</th>\n",
       "      <th>31</th>\n",
       "      <th>32</th>\n",
       "      <th>33</th>\n",
       "      <th>34</th>\n",
       "      <th>35</th>\n",
       "      <th>36</th>\n",
       "      <th>37</th>\n",
       "      <th>38</th>\n",
       "      <th>39</th>\n",
       "      <th>...</th>\n",
       "      <th>745</th>\n",
       "      <th>746</th>\n",
       "      <th>747</th>\n",
       "      <th>748</th>\n",
       "      <th>749</th>\n",
       "      <th>750</th>\n",
       "      <th>751</th>\n",
       "      <th>752</th>\n",
       "      <th>753</th>\n",
       "      <th>754</th>\n",
       "      <th>755</th>\n",
       "      <th>756</th>\n",
       "      <th>757</th>\n",
       "      <th>758</th>\n",
       "      <th>759</th>\n",
       "      <th>760</th>\n",
       "      <th>761</th>\n",
       "      <th>762</th>\n",
       "      <th>763</th>\n",
       "      <th>764</th>\n",
       "      <th>765</th>\n",
       "      <th>766</th>\n",
       "      <th>767</th>\n",
       "      <th>768</th>\n",
       "      <th>769</th>\n",
       "      <th>770</th>\n",
       "      <th>771</th>\n",
       "      <th>772</th>\n",
       "      <th>773</th>\n",
       "      <th>774</th>\n",
       "      <th>775</th>\n",
       "      <th>776</th>\n",
       "      <th>777</th>\n",
       "      <th>778</th>\n",
       "      <th>779</th>\n",
       "      <th>780</th>\n",
       "      <th>781</th>\n",
       "      <th>782</th>\n",
       "      <th>783</th>\n",
       "      <th>784</th>\n",
       "    </tr>\n",
       "  </thead>\n",
       "  <tbody>\n",
       "    <tr>\n",
       "      <th>0</th>\n",
       "      <td>4</td>\n",
       "      <td>0</td>\n",
       "      <td>0</td>\n",
       "      <td>0</td>\n",
       "      <td>0</td>\n",
       "      <td>0</td>\n",
       "      <td>0</td>\n",
       "      <td>0</td>\n",
       "      <td>0</td>\n",
       "      <td>0</td>\n",
       "      <td>0</td>\n",
       "      <td>0</td>\n",
       "      <td>0</td>\n",
       "      <td>0</td>\n",
       "      <td>0</td>\n",
       "      <td>0</td>\n",
       "      <td>0</td>\n",
       "      <td>0</td>\n",
       "      <td>0</td>\n",
       "      <td>0</td>\n",
       "      <td>0</td>\n",
       "      <td>0</td>\n",
       "      <td>0</td>\n",
       "      <td>0</td>\n",
       "      <td>0</td>\n",
       "      <td>0</td>\n",
       "      <td>0</td>\n",
       "      <td>0</td>\n",
       "      <td>0</td>\n",
       "      <td>0</td>\n",
       "      <td>0</td>\n",
       "      <td>0</td>\n",
       "      <td>0</td>\n",
       "      <td>0</td>\n",
       "      <td>0</td>\n",
       "      <td>0</td>\n",
       "      <td>0</td>\n",
       "      <td>0</td>\n",
       "      <td>0</td>\n",
       "      <td>0</td>\n",
       "      <td>...</td>\n",
       "      <td>0</td>\n",
       "      <td>0</td>\n",
       "      <td>0</td>\n",
       "      <td>0</td>\n",
       "      <td>0</td>\n",
       "      <td>0</td>\n",
       "      <td>0</td>\n",
       "      <td>0</td>\n",
       "      <td>0</td>\n",
       "      <td>0</td>\n",
       "      <td>0</td>\n",
       "      <td>0</td>\n",
       "      <td>0</td>\n",
       "      <td>0</td>\n",
       "      <td>0</td>\n",
       "      <td>0</td>\n",
       "      <td>0</td>\n",
       "      <td>0</td>\n",
       "      <td>0</td>\n",
       "      <td>0</td>\n",
       "      <td>0</td>\n",
       "      <td>0</td>\n",
       "      <td>0</td>\n",
       "      <td>0</td>\n",
       "      <td>0</td>\n",
       "      <td>0</td>\n",
       "      <td>0</td>\n",
       "      <td>0</td>\n",
       "      <td>0</td>\n",
       "      <td>0</td>\n",
       "      <td>0</td>\n",
       "      <td>0</td>\n",
       "      <td>0</td>\n",
       "      <td>0</td>\n",
       "      <td>0</td>\n",
       "      <td>0</td>\n",
       "      <td>0</td>\n",
       "      <td>0</td>\n",
       "      <td>0</td>\n",
       "      <td>0</td>\n",
       "    </tr>\n",
       "    <tr>\n",
       "      <th>1</th>\n",
       "      <td>0</td>\n",
       "      <td>0</td>\n",
       "      <td>0</td>\n",
       "      <td>0</td>\n",
       "      <td>0</td>\n",
       "      <td>0</td>\n",
       "      <td>0</td>\n",
       "      <td>0</td>\n",
       "      <td>0</td>\n",
       "      <td>0</td>\n",
       "      <td>0</td>\n",
       "      <td>0</td>\n",
       "      <td>0</td>\n",
       "      <td>0</td>\n",
       "      <td>0</td>\n",
       "      <td>0</td>\n",
       "      <td>0</td>\n",
       "      <td>0</td>\n",
       "      <td>0</td>\n",
       "      <td>0</td>\n",
       "      <td>0</td>\n",
       "      <td>0</td>\n",
       "      <td>0</td>\n",
       "      <td>0</td>\n",
       "      <td>0</td>\n",
       "      <td>0</td>\n",
       "      <td>0</td>\n",
       "      <td>0</td>\n",
       "      <td>0</td>\n",
       "      <td>0</td>\n",
       "      <td>0</td>\n",
       "      <td>0</td>\n",
       "      <td>0</td>\n",
       "      <td>0</td>\n",
       "      <td>0</td>\n",
       "      <td>0</td>\n",
       "      <td>0</td>\n",
       "      <td>0</td>\n",
       "      <td>0</td>\n",
       "      <td>0</td>\n",
       "      <td>...</td>\n",
       "      <td>0</td>\n",
       "      <td>0</td>\n",
       "      <td>0</td>\n",
       "      <td>0</td>\n",
       "      <td>0</td>\n",
       "      <td>0</td>\n",
       "      <td>0</td>\n",
       "      <td>0</td>\n",
       "      <td>0</td>\n",
       "      <td>0</td>\n",
       "      <td>0</td>\n",
       "      <td>0</td>\n",
       "      <td>0</td>\n",
       "      <td>0</td>\n",
       "      <td>0</td>\n",
       "      <td>0</td>\n",
       "      <td>0</td>\n",
       "      <td>0</td>\n",
       "      <td>0</td>\n",
       "      <td>0</td>\n",
       "      <td>0</td>\n",
       "      <td>0</td>\n",
       "      <td>0</td>\n",
       "      <td>0</td>\n",
       "      <td>0</td>\n",
       "      <td>0</td>\n",
       "      <td>0</td>\n",
       "      <td>0</td>\n",
       "      <td>0</td>\n",
       "      <td>0</td>\n",
       "      <td>0</td>\n",
       "      <td>0</td>\n",
       "      <td>0</td>\n",
       "      <td>0</td>\n",
       "      <td>0</td>\n",
       "      <td>0</td>\n",
       "      <td>0</td>\n",
       "      <td>0</td>\n",
       "      <td>0</td>\n",
       "      <td>0</td>\n",
       "    </tr>\n",
       "    <tr>\n",
       "      <th>2</th>\n",
       "      <td>0</td>\n",
       "      <td>0</td>\n",
       "      <td>0</td>\n",
       "      <td>0</td>\n",
       "      <td>0</td>\n",
       "      <td>0</td>\n",
       "      <td>0</td>\n",
       "      <td>0</td>\n",
       "      <td>0</td>\n",
       "      <td>1</td>\n",
       "      <td>0</td>\n",
       "      <td>0</td>\n",
       "      <td>44</td>\n",
       "      <td>48</td>\n",
       "      <td>147</td>\n",
       "      <td>59</td>\n",
       "      <td>0</td>\n",
       "      <td>78</td>\n",
       "      <td>20</td>\n",
       "      <td>0</td>\n",
       "      <td>0</td>\n",
       "      <td>0</td>\n",
       "      <td>0</td>\n",
       "      <td>0</td>\n",
       "      <td>0</td>\n",
       "      <td>0</td>\n",
       "      <td>0</td>\n",
       "      <td>0</td>\n",
       "      <td>0</td>\n",
       "      <td>0</td>\n",
       "      <td>0</td>\n",
       "      <td>0</td>\n",
       "      <td>0</td>\n",
       "      <td>0</td>\n",
       "      <td>0</td>\n",
       "      <td>0</td>\n",
       "      <td>0</td>\n",
       "      <td>0</td>\n",
       "      <td>0</td>\n",
       "      <td>24</td>\n",
       "      <td>...</td>\n",
       "      <td>189</td>\n",
       "      <td>113</td>\n",
       "      <td>111</td>\n",
       "      <td>113</td>\n",
       "      <td>27</td>\n",
       "      <td>0</td>\n",
       "      <td>0</td>\n",
       "      <td>0</td>\n",
       "      <td>0</td>\n",
       "      <td>0</td>\n",
       "      <td>0</td>\n",
       "      <td>0</td>\n",
       "      <td>0</td>\n",
       "      <td>0</td>\n",
       "      <td>0</td>\n",
       "      <td>0</td>\n",
       "      <td>0</td>\n",
       "      <td>0</td>\n",
       "      <td>1</td>\n",
       "      <td>0</td>\n",
       "      <td>0</td>\n",
       "      <td>98</td>\n",
       "      <td>33</td>\n",
       "      <td>70</td>\n",
       "      <td>72</td>\n",
       "      <td>74</td>\n",
       "      <td>46</td>\n",
       "      <td>68</td>\n",
       "      <td>37</td>\n",
       "      <td>40</td>\n",
       "      <td>31</td>\n",
       "      <td>9</td>\n",
       "      <td>0</td>\n",
       "      <td>0</td>\n",
       "      <td>0</td>\n",
       "      <td>0</td>\n",
       "      <td>0</td>\n",
       "      <td>0</td>\n",
       "      <td>0</td>\n",
       "      <td>0</td>\n",
       "    </tr>\n",
       "    <tr>\n",
       "      <th>3</th>\n",
       "      <td>4</td>\n",
       "      <td>0</td>\n",
       "      <td>0</td>\n",
       "      <td>0</td>\n",
       "      <td>0</td>\n",
       "      <td>0</td>\n",
       "      <td>0</td>\n",
       "      <td>0</td>\n",
       "      <td>0</td>\n",
       "      <td>0</td>\n",
       "      <td>0</td>\n",
       "      <td>0</td>\n",
       "      <td>0</td>\n",
       "      <td>0</td>\n",
       "      <td>0</td>\n",
       "      <td>0</td>\n",
       "      <td>0</td>\n",
       "      <td>0</td>\n",
       "      <td>0</td>\n",
       "      <td>0</td>\n",
       "      <td>0</td>\n",
       "      <td>0</td>\n",
       "      <td>0</td>\n",
       "      <td>0</td>\n",
       "      <td>0</td>\n",
       "      <td>0</td>\n",
       "      <td>0</td>\n",
       "      <td>0</td>\n",
       "      <td>0</td>\n",
       "      <td>0</td>\n",
       "      <td>0</td>\n",
       "      <td>0</td>\n",
       "      <td>0</td>\n",
       "      <td>0</td>\n",
       "      <td>0</td>\n",
       "      <td>0</td>\n",
       "      <td>0</td>\n",
       "      <td>0</td>\n",
       "      <td>0</td>\n",
       "      <td>0</td>\n",
       "      <td>...</td>\n",
       "      <td>0</td>\n",
       "      <td>0</td>\n",
       "      <td>0</td>\n",
       "      <td>0</td>\n",
       "      <td>0</td>\n",
       "      <td>0</td>\n",
       "      <td>0</td>\n",
       "      <td>0</td>\n",
       "      <td>0</td>\n",
       "      <td>0</td>\n",
       "      <td>0</td>\n",
       "      <td>0</td>\n",
       "      <td>0</td>\n",
       "      <td>0</td>\n",
       "      <td>0</td>\n",
       "      <td>0</td>\n",
       "      <td>0</td>\n",
       "      <td>0</td>\n",
       "      <td>0</td>\n",
       "      <td>0</td>\n",
       "      <td>0</td>\n",
       "      <td>0</td>\n",
       "      <td>0</td>\n",
       "      <td>0</td>\n",
       "      <td>0</td>\n",
       "      <td>0</td>\n",
       "      <td>0</td>\n",
       "      <td>0</td>\n",
       "      <td>0</td>\n",
       "      <td>0</td>\n",
       "      <td>0</td>\n",
       "      <td>0</td>\n",
       "      <td>0</td>\n",
       "      <td>0</td>\n",
       "      <td>0</td>\n",
       "      <td>0</td>\n",
       "      <td>0</td>\n",
       "      <td>0</td>\n",
       "      <td>0</td>\n",
       "      <td>0</td>\n",
       "    </tr>\n",
       "    <tr>\n",
       "      <th>4</th>\n",
       "      <td>1</td>\n",
       "      <td>0</td>\n",
       "      <td>0</td>\n",
       "      <td>0</td>\n",
       "      <td>0</td>\n",
       "      <td>0</td>\n",
       "      <td>0</td>\n",
       "      <td>0</td>\n",
       "      <td>0</td>\n",
       "      <td>0</td>\n",
       "      <td>0</td>\n",
       "      <td>0</td>\n",
       "      <td>0</td>\n",
       "      <td>0</td>\n",
       "      <td>0</td>\n",
       "      <td>0</td>\n",
       "      <td>0</td>\n",
       "      <td>0</td>\n",
       "      <td>0</td>\n",
       "      <td>0</td>\n",
       "      <td>0</td>\n",
       "      <td>0</td>\n",
       "      <td>0</td>\n",
       "      <td>0</td>\n",
       "      <td>0</td>\n",
       "      <td>0</td>\n",
       "      <td>0</td>\n",
       "      <td>0</td>\n",
       "      <td>0</td>\n",
       "      <td>0</td>\n",
       "      <td>0</td>\n",
       "      <td>0</td>\n",
       "      <td>0</td>\n",
       "      <td>0</td>\n",
       "      <td>0</td>\n",
       "      <td>0</td>\n",
       "      <td>0</td>\n",
       "      <td>0</td>\n",
       "      <td>0</td>\n",
       "      <td>0</td>\n",
       "      <td>...</td>\n",
       "      <td>0</td>\n",
       "      <td>0</td>\n",
       "      <td>0</td>\n",
       "      <td>0</td>\n",
       "      <td>0</td>\n",
       "      <td>0</td>\n",
       "      <td>0</td>\n",
       "      <td>0</td>\n",
       "      <td>0</td>\n",
       "      <td>0</td>\n",
       "      <td>0</td>\n",
       "      <td>0</td>\n",
       "      <td>0</td>\n",
       "      <td>0</td>\n",
       "      <td>0</td>\n",
       "      <td>0</td>\n",
       "      <td>0</td>\n",
       "      <td>0</td>\n",
       "      <td>0</td>\n",
       "      <td>0</td>\n",
       "      <td>0</td>\n",
       "      <td>0</td>\n",
       "      <td>0</td>\n",
       "      <td>0</td>\n",
       "      <td>0</td>\n",
       "      <td>0</td>\n",
       "      <td>0</td>\n",
       "      <td>0</td>\n",
       "      <td>0</td>\n",
       "      <td>0</td>\n",
       "      <td>0</td>\n",
       "      <td>0</td>\n",
       "      <td>0</td>\n",
       "      <td>0</td>\n",
       "      <td>0</td>\n",
       "      <td>0</td>\n",
       "      <td>0</td>\n",
       "      <td>0</td>\n",
       "      <td>0</td>\n",
       "      <td>0</td>\n",
       "    </tr>\n",
       "  </tbody>\n",
       "</table>\n",
       "<p>5 rows × 785 columns</p>\n",
       "</div>"
      ],
      "text/plain": [
       "   Label  1  2  3  4  5  6  7  8  ...  776  777  778  779  780  781  782  783  784\n",
       "0      4  0  0  0  0  0  0  0  0  ...    0    0    0    0    0    0    0    0    0\n",
       "1      0  0  0  0  0  0  0  0  0  ...    0    0    0    0    0    0    0    0    0\n",
       "2      0  0  0  0  0  0  0  0  0  ...    9    0    0    0    0    0    0    0    0\n",
       "3      4  0  0  0  0  0  0  0  0  ...    0    0    0    0    0    0    0    0    0\n",
       "4      1  0  0  0  0  0  0  0  0  ...    0    0    0    0    0    0    0    0    0\n",
       "\n",
       "[5 rows x 785 columns]"
      ]
     },
     "execution_count": 7,
     "metadata": {
      "tags": []
     },
     "output_type": "execute_result"
    },
    {
     "name": "stdout",
     "output_type": "stream",
     "text": [
      "time: 4.45 s\n"
     ]
    }
   ],
   "source": [
    "#Loading the dataset Fashion MNIST\n",
    "train_data=pd.read_csv(\"train/train.csv\")\n",
    "test_data=pd.read_csv(\"test/testX.csv\")\n",
    "\n",
    "df_train=train_data.copy()\n",
    "df_test=test_data.copy()\n",
    "\n",
    "print(\"Train:\",df_train.shape)\n",
    "print(\"Test:\",df_test.shape)\n",
    "df_train.drop('Id',axis=1,inplace=True)\n",
    "\n",
    "df_train.head()"
   ]
  },
  {
   "cell_type": "code",
   "execution_count": 8,
   "metadata": {
    "colab": {
     "base_uri": "https://localhost:8080/",
     "height": 34
    },
    "colab_type": "code",
    "id": "tFfJOodbfn6L",
    "outputId": "588d01b7-7fff-45a1-cd34-32a0f9e22f72"
   },
   "outputs": [
    {
     "name": "stdout",
     "output_type": "stream",
     "text": [
      "time: 4.63 ms\n"
     ]
    }
   ],
   "source": [
    "#Features and label split\n",
    "X=df_train.iloc[:,1:]\n",
    "y=df_train['Label']\n",
    "\n",
    "X_test=df_test.iloc[:,1:]\n",
    "\n",
    "# Train and validation split function\n",
    "\n",
    "def trainValSplit(x_data,seed=42):\n",
    "\n",
    "    #Train and Validation Splitting\n",
    "    X_train, X_val, y_train, y_val = train_test_split(x_data, y, test_size=0.2, random_state=seed)\n",
    "        \n",
    "    return X_train, X_val, y_train, y_val "
   ]
  },
  {
   "cell_type": "code",
   "execution_count": 9,
   "metadata": {
    "colab": {
     "base_uri": "https://localhost:8080/",
     "height": 34
    },
    "colab_type": "code",
    "id": "6kfYkq45fqbN",
    "outputId": "36217a25-0918-462f-d636-2c86bc985f82"
   },
   "outputs": [
    {
     "name": "stdout",
     "output_type": "stream",
     "text": [
      "time: 267 ms\n"
     ]
    }
   ],
   "source": [
    "X_train, X_val, y_train, y_val = trainValSplit(X)\n",
    "\n",
    "# reshape dataset to have a single channel\n",
    "trainX = X.values.reshape((-1, 28, 28, 1))\n",
    "\n",
    "testX = X_test.values.reshape((-1, 28, 28, 1))\n",
    "\n",
    "# one hot encode target values\n",
    "trainY = to_categorical(y,num_classes=5)\n"
   ]
  },
  {
   "cell_type": "code",
   "execution_count": 10,
   "metadata": {
    "colab": {
     "base_uri": "https://localhost:8080/",
     "height": 34
    },
    "colab_type": "code",
    "id": "55HxONjLfsnc",
    "outputId": "d99dd9e7-b240-407b-9886-d78354e328dd"
   },
   "outputs": [
    {
     "name": "stdout",
     "output_type": "stream",
     "text": [
      "time: 121 ms\n"
     ]
    }
   ],
   "source": [
    "trainX_norm=trainX.astype(\"float32\")/255\n",
    "\n",
    "testX_norm=testX.astype(\"float32\")/255"
   ]
  },
  {
   "cell_type": "code",
   "execution_count": 11,
   "metadata": {
    "colab": {
     "base_uri": "https://localhost:8080/",
     "height": 68
    },
    "colab_type": "code",
    "id": "hbUo4skvf4bs",
    "outputId": "4e7fe6c8-6ff0-4549-b3de-080da1b8e480"
   },
   "outputs": [
    {
     "name": "stdout",
     "output_type": "stream",
     "text": [
      "X_train shape:(60000, 32, 32, 3)\n",
      "X_test shape:(10000, 32, 32, 3)\n",
      "time: 591 ms\n"
     ]
    }
   ],
   "source": [
    "# To train on ResNet50 model pad zeros to make 28*28*1 array to 32*32*3 array\n",
    "trainX_norm = np.pad(trainX_norm,((0,0),(2,2),(2,2),(1,1)), mode='constant', constant_values=0)\n",
    "testX_norm = np.pad(testX_norm,((0,0),(2,2),(2,2),(1,1)), mode='constant', constant_values=0)\n",
    "\n",
    "\n",
    "print('X_train shape:{}'.format(trainX_norm.shape))\n",
    "print('X_test shape:{}'.format(testX_norm.shape))\n"
   ]
  },
  {
   "cell_type": "code",
   "execution_count": 12,
   "metadata": {
    "colab": {
     "base_uri": "https://localhost:8080/",
     "height": 462
    },
    "colab_type": "code",
    "id": "2-1SSMvh5GX9",
    "outputId": "204161f8-8107-4416-a717-48709ff19a18"
   },
   "outputs": [
    {
     "name": "stderr",
     "output_type": "stream",
     "text": [
      "/usr/local/lib/python3.6/dist-packages/keras_applications/resnet50.py:265: UserWarning: The output shape of `ResNet50(include_top=False)` has been changed since Keras 2.2.0.\n",
      "  warnings.warn('The output shape of `ResNet50(include_top=False)` '\n"
     ]
    },
    {
     "name": "stdout",
     "output_type": "stream",
     "text": [
      "Downloading data from https://github.com/fchollet/deep-learning-models/releases/download/v0.2/resnet50_weights_tf_dim_ordering_tf_kernels_notop.h5\n",
      "94658560/94653016 [==============================] - 2s 0us/step\n",
      "Model: \"sequential_1\"\n",
      "_________________________________________________________________\n",
      "Layer (type)                 Output Shape              Param #   \n",
      "=================================================================\n",
      "resnet50 (Model)             (None, 1, 1, 2048)        23587712  \n",
      "_________________________________________________________________\n",
      "global_average_pooling2d_1 ( (None, 2048)              0         \n",
      "_________________________________________________________________\n",
      "dense_1 (Dense)              (None, 256)               524544    \n",
      "_________________________________________________________________\n",
      "dropout_1 (Dropout)          (None, 256)               0         \n",
      "_________________________________________________________________\n",
      "batch_normalization_1 (Batch (None, 256)               1024      \n",
      "_________________________________________________________________\n",
      "dense_2 (Dense)              (None, 5)                 1285      \n",
      "=================================================================\n",
      "Total params: 24,114,565\n",
      "Trainable params: 579,461\n",
      "Non-trainable params: 23,535,104\n",
      "_________________________________________________________________\n",
      "time: 15.3 s\n"
     ]
    }
   ],
   "source": [
    "import tensorflow as tf\n",
    "from keras.models import Model\n",
    "from keras.applications.resnet50 import ResNet50\n",
    "from keras.layers import Dense, GlobalAveragePooling2D, Flatten\n",
    "\n",
    "resnet_model=ResNet50(weights='imagenet', include_top=False, input_shape=(32,32,3))\n",
    "\n",
    "model=Sequential()\n",
    "model.add(resnet_model)\n",
    "model.add(GlobalAveragePooling2D())\n",
    "model.add(Dense(256, activation='relu'))\n",
    "model.add(Dropout(.3))\n",
    "model.add(BatchNormalization())\n",
    "model.add(Dense(5, activation='softmax'))\n",
    "for layer in resnet_model.layers:\n",
    "    if isinstance(layer, BatchNormalization):\n",
    "        layer.trainable = True\n",
    "    else:\n",
    "        layer.trainable = False\n",
    "\n",
    "\n",
    "model.summary()"
   ]
  },
  {
   "cell_type": "code",
   "execution_count": 13,
   "metadata": {
    "colab": {
     "base_uri": "https://localhost:8080/",
     "height": 34
    },
    "colab_type": "code",
    "id": "-PEvFa0Aqof7",
    "outputId": "599629bb-882f-4a13-ddcb-79e33593d346"
   },
   "outputs": [
    {
     "name": "stdout",
     "output_type": "stream",
     "text": [
      "time: 44.5 ms\n"
     ]
    }
   ],
   "source": [
    "# Compile the model\n",
    "model.compile(loss=keras.losses.categorical_crossentropy,\n",
    "                  optimizer=keras.optimizers.Adam(learning_rate=0.001),\n",
    "                  metrics=['accuracy'])"
   ]
  },
  {
   "cell_type": "code",
   "execution_count": 15,
   "metadata": {
    "colab": {
     "base_uri": "https://localhost:8080/",
     "height": 1000
    },
    "colab_type": "code",
    "id": "G20KOHWLgSaT",
    "outputId": "26f608a1-13c4-4fb6-b010-9b4d6b1247c7"
   },
   "outputs": [
    {
     "name": "stdout",
     "output_type": "stream",
     "text": [
      "Train on 48000 samples, validate on 12000 samples\n",
      "Epoch 1/30\n",
      "48000/48000 [==============================] - 61s 1ms/step - loss: 0.8442 - accuracy: 0.6614 - val_loss: 17.0560 - val_accuracy: 0.1240\n",
      "Epoch 2/30\n",
      "48000/48000 [==============================] - 46s 969us/step - loss: 0.6116 - accuracy: 0.7464 - val_loss: 0.5339 - val_accuracy: 0.7763\n",
      "Epoch 3/30\n",
      "48000/48000 [==============================] - 46s 965us/step - loss: 0.5322 - accuracy: 0.7801 - val_loss: 0.4702 - val_accuracy: 0.8025\n",
      "Epoch 4/30\n",
      "48000/48000 [==============================] - 47s 974us/step - loss: 0.4806 - accuracy: 0.8024 - val_loss: 0.4386 - val_accuracy: 0.8200\n",
      "Epoch 5/30\n",
      "48000/48000 [==============================] - 46s 968us/step - loss: 0.4538 - accuracy: 0.8124 - val_loss: 0.4187 - val_accuracy: 0.8258\n",
      "Epoch 6/30\n",
      "48000/48000 [==============================] - 47s 969us/step - loss: 0.4287 - accuracy: 0.8242 - val_loss: 0.4094 - val_accuracy: 0.8325\n",
      "Epoch 7/30\n",
      "48000/48000 [==============================] - 47s 969us/step - loss: 0.4006 - accuracy: 0.8360 - val_loss: 0.3914 - val_accuracy: 0.8443\n",
      "Epoch 8/30\n",
      "48000/48000 [==============================] - 46s 965us/step - loss: 0.3822 - accuracy: 0.8440 - val_loss: 0.3756 - val_accuracy: 0.8480\n",
      "Epoch 9/30\n",
      "48000/48000 [==============================] - 47s 970us/step - loss: 0.3600 - accuracy: 0.8521 - val_loss: 0.3863 - val_accuracy: 0.8442\n",
      "Epoch 10/30\n",
      "48000/48000 [==============================] - 47s 970us/step - loss: 0.3508 - accuracy: 0.8559 - val_loss: 0.3707 - val_accuracy: 0.8518\n",
      "Epoch 11/30\n",
      "48000/48000 [==============================] - 46s 967us/step - loss: 0.3411 - accuracy: 0.8608 - val_loss: 0.3611 - val_accuracy: 0.8577\n",
      "Epoch 12/30\n",
      "48000/48000 [==============================] - 47s 974us/step - loss: 0.3262 - accuracy: 0.8673 - val_loss: 0.3574 - val_accuracy: 0.8610\n",
      "Epoch 13/30\n",
      "48000/48000 [==============================] - 47s 970us/step - loss: 0.3160 - accuracy: 0.8728 - val_loss: 0.3501 - val_accuracy: 0.8617\n",
      "Epoch 14/30\n",
      "48000/48000 [==============================] - 46s 967us/step - loss: 0.3040 - accuracy: 0.8780 - val_loss: 0.3536 - val_accuracy: 0.8620\n",
      "Epoch 15/30\n",
      "48000/48000 [==============================] - 46s 966us/step - loss: 0.2933 - accuracy: 0.8821 - val_loss: 0.3540 - val_accuracy: 0.8605\n",
      "Epoch 16/30\n",
      "48000/48000 [==============================] - 46s 964us/step - loss: 0.2889 - accuracy: 0.8833 - val_loss: 0.3538 - val_accuracy: 0.8633\n",
      "Epoch 17/30\n",
      "48000/48000 [==============================] - 46s 967us/step - loss: 0.2761 - accuracy: 0.8876 - val_loss: 0.3594 - val_accuracy: 0.8656\n",
      "Epoch 18/30\n",
      "48000/48000 [==============================] - 46s 965us/step - loss: 0.2713 - accuracy: 0.8918 - val_loss: 0.3550 - val_accuracy: 0.8662\n",
      "Epoch 19/30\n",
      "48000/48000 [==============================] - 47s 970us/step - loss: 0.2692 - accuracy: 0.8905 - val_loss: 0.3630 - val_accuracy: 0.8602\n",
      "Epoch 20/30\n",
      "48000/48000 [==============================] - 46s 964us/step - loss: 0.2559 - accuracy: 0.8972 - val_loss: 0.3627 - val_accuracy: 0.8607\n",
      "Epoch 21/30\n",
      "48000/48000 [==============================] - 46s 965us/step - loss: 0.2483 - accuracy: 0.8994 - val_loss: 0.3594 - val_accuracy: 0.8658\n",
      "Epoch 22/30\n",
      "48000/48000 [==============================] - 46s 961us/step - loss: 0.2411 - accuracy: 0.9026 - val_loss: 0.3657 - val_accuracy: 0.8654\n",
      "Epoch 23/30\n",
      "48000/48000 [==============================] - 46s 969us/step - loss: 0.2369 - accuracy: 0.9064 - val_loss: 0.3652 - val_accuracy: 0.8658\n",
      "Epoch 24/30\n",
      "48000/48000 [==============================] - 46s 961us/step - loss: 0.2366 - accuracy: 0.9050 - val_loss: 0.3553 - val_accuracy: 0.8648\n",
      "Epoch 25/30\n",
      "48000/48000 [==============================] - 46s 963us/step - loss: 0.2236 - accuracy: 0.9100 - val_loss: 0.3728 - val_accuracy: 0.8624\n",
      "Epoch 26/30\n",
      "48000/48000 [==============================] - 47s 970us/step - loss: 0.2245 - accuracy: 0.9096 - val_loss: 0.3630 - val_accuracy: 0.8642\n",
      "Epoch 27/30\n",
      "48000/48000 [==============================] - 46s 961us/step - loss: 0.2124 - accuracy: 0.9139 - val_loss: 0.3804 - val_accuracy: 0.8646\n",
      "Epoch 28/30\n",
      "48000/48000 [==============================] - 46s 961us/step - loss: 0.2170 - accuracy: 0.9120 - val_loss: 0.3645 - val_accuracy: 0.8641\n",
      "Epoch 29/30\n",
      "48000/48000 [==============================] - 46s 956us/step - loss: 0.2106 - accuracy: 0.9160 - val_loss: 0.3749 - val_accuracy: 0.8673\n",
      "Epoch 30/30\n",
      "48000/48000 [==============================] - 46s 965us/step - loss: 0.2050 - accuracy: 0.9182 - val_loss: 0.3690 - val_accuracy: 0.8675\n",
      "time: 23min 37s\n"
     ]
    }
   ],
   "source": [
    "# Train the model\n",
    "history = model.fit(trainX_norm, trainY,\n",
    "         batch_size=64, epochs=30,\n",
    "         validation_split=0.2,\n",
    "         verbose=1, shuffle=True)"
   ]
  },
  {
   "cell_type": "code",
   "execution_count": 16,
   "metadata": {
    "colab": {
     "base_uri": "https://localhost:8080/",
     "height": 34
    },
    "colab_type": "code",
    "id": "3MKA9rGD4NR4",
    "outputId": "37ba5286-986e-4329-df81-edf6b42ef53d"
   },
   "outputs": [
    {
     "name": "stdout",
     "output_type": "stream",
     "text": [
      "time: 6.52 s\n"
     ]
    }
   ],
   "source": [
    "pred=model.predict(testX_norm)\n",
    "pred=np.argmax(pred,axis=1)\n",
    "df=pd.DataFrame(pred)\n",
    "df.index+=0\n",
    "df.index.name='Id'\n",
    "df.columns=['Label']\n",
    "df.to_csv('res_2.csv',header='true')"
   ]
  },
  {
   "cell_type": "code",
   "execution_count": 17,
   "metadata": {
    "colab": {
     "base_uri": "https://localhost:8080/",
     "height": 318
    },
    "colab_type": "code",
    "id": "NqxYYooKhHgO",
    "outputId": "bbb0e1d6-108d-471a-8945-dd59b2134ca5"
   },
   "outputs": [
    {
     "data": {
      "image/png": "[encoded data removed]",
      "text/plain": [
       "<Figure size 432x288 with 1 Axes>"
      ]
     },
     "metadata": {
      "tags": []
     },
     "output_type": "display_data"
    },
    {
     "name": "stdout",
     "output_type": "stream",
     "text": [
      "time: 174 ms\n"
     ]
    }
   ],
   "source": [
    "plt.plot(history.history['loss'])\n",
    "plt.plot(history.history['val_loss'])\n",
    "plt.title(\"Model Loss\")\n",
    "plt.xlabel('Epochs')\n",
    "plt.ylabel('Loss')\n",
    "plt.legend(['Train', 'Validation'])\n",
    "plt.show()"
   ]
  },
  {
   "cell_type": "code",
   "execution_count": 18,
   "metadata": {
    "colab": {
     "base_uri": "https://localhost:8080/",
     "height": 318
    },
    "colab_type": "code",
    "id": "GrFLdh_3AYxD",
    "outputId": "e7f1f845-287d-4fa2-c102-994821844ac0"
   },
   "outputs": [
    {
     "data": {
      "image/png": "[encoded data removed]",
      "text/plain": [
       "<Figure size 432x288 with 1 Axes>"
      ]
     },
     "metadata": {
      "tags": []
     },
     "output_type": "display_data"
    },
    {
     "name": "stdout",
     "output_type": "stream",
     "text": [
      "time: 144 ms\n"
     ]
    }
   ],
   "source": [
    "plt.plot(history.history['accuracy'])\n",
    "plt.plot(history.history['val_accuracy'])\n",
    "plt.title(\"Model Accuracy\")\n",
    "plt.xlabel('Epochs')\n",
    "plt.ylabel('Accuracy')\n",
    "plt.legend(['Train', 'Validation'])\n",
    "plt.show()"
   ]
  },
  {
   "cell_type": "markdown",
   "metadata": {},
   "source": [
    "##### GRAPH ANALYSIS\n",
    "###### EPOCHS VS LOSS\n",
    "The validation dataset predictions are very good in resnet pretrained imagenet model.As the number of epochs increases both the training and the validation datset approaches zero and the validation data set closely follows the training datset indicating a good fit.\n",
    "###### EPOCHS VS ACCURACY\n",
    "The maximum accuracy obtained in the validation dataset by the resnet is 86 percentage.As the number of epochs increases the accuracy gradually increases and smoothens out.\n",
    "\n",
    "Because of memory and time constraint we have tried till 30 epochs and have used resnet 50.If we use resnet with more number of layers and tune the parameters it might give a better accuracy than the cnn model we have defined."
   ]
  },
  {
   "cell_type": "code",
   "execution_count": 38,
   "metadata": {
    "colab": {
     "base_uri": "https://localhost:8080/",
     "height": 34
    },
    "colab_type": "code",
    "id": "OwUUnRqYxFXi",
    "outputId": "4f712305-d8dd-434e-c746-b21746631d46"
   },
   "outputs": [
    {
     "name": "stdout",
     "output_type": "stream",
     "text": [
      "time: 3.25 ms\n"
     ]
    }
   ],
   "source": [
    "\n",
    "def accuracy(x,y):\n",
    "    iter=0\n",
    "    for i in tqdm(range(len(y))):\n",
    "                  prediction=model.predict(x[i:i+1])\n",
    "                  if np.argmax(prediction)==np.argmax(y[i]):\n",
    "                       iter=iter+1\n",
    "    return iter/len(y)"
   ]
  },
  {
   "cell_type": "code",
   "execution_count": 39,
   "metadata": {
    "colab": {
     "base_uri": "https://localhost:8080/",
     "height": 51
    },
    "colab_type": "code",
    "id": "8MW07m8-xQmO",
    "outputId": "0224c707-10df-416a-d3bb-5b9e4ed8c893"
   },
   "outputs": [
    {
     "name": "stderr",
     "output_type": "stream",
     "text": [
      "100%|██████████| 12000/12000 [01:13<00:00, 164.37it/s]\n"
     ]
    },
    {
     "data": {
      "text/plain": [
       "0.8679166666666667"
      ]
     },
     "execution_count": 39,
     "metadata": {
      "tags": []
     },
     "output_type": "execute_result"
    },
    {
     "name": "stdout",
     "output_type": "stream",
     "text": [
      "time: 1min 13s\n"
     ]
    }
   ],
   "source": [
    "from tqdm import tqdm\n",
    "#calculating max accuracy on val dataset obtained\n",
    "accuracy(X_val, y_val)"
   ]
  },
  {
   "cell_type": "markdown",
   "metadata": {},
   "source": [
    "##### RESNET 50 RESULTS ON TEST DATA\n",
    "On uploading the predicted csv file in kaggle the accuracy obtained was 85.78 percentage for the test data set."
   ]
  },
  {
   "cell_type": "markdown",
   "metadata": {},
   "source": [
    "#### 2.5 RESULT ANALYSIS\n",
    "1) Classification Accuracy for Different Models"
   ]
  },
  {
   "cell_type": "markdown",
   "metadata": {},
   "source": [
    "| MODEL| TRAINING | VALIDATION | TESTING\n",
    "|------|------|------|------|\n",
    "|  BaseModel(40 epochs) | 82 | 83 | 77.16 \n",
    "|  cnn_3 (40 epochs)  | 86 | 88 | 83.74\n",
    "|  cnn_4 (80 epochs) |95.15  | 91 | 90.92\n",
    "|  Resnet-50 (30 epochs)| 91.82 | 86.75 | 85.78\n",
    "|  VGG19 (40 epochs)  | 52 | 58| 56.78"
   ]
  },
  {
   "cell_type": "markdown",
   "metadata": {},
   "source": [
    "2) Comparison of the different algorithms and parameters that i have tried is explained in the flow of code given above.\n",
    "\n",
    "3)The Best model obtained in our implementation is the convolution neural network with four layers.In this model we have used four convolution layers with a dropout layer after every convolution.BatchNormalization is used in each layer.\n",
    "\n",
    "Before the softmax classification layer is added,we have defined two fully connected dense layer with 512 and 128 filters correspondingly.\n",
    "\n",
    "In addition to that we have used the adam optimizer with a learning rate of 0.001 inorder to develop a stable model.This achieved an accuracy of 90.92 in the test data set\n",
    "\n",
    "4)Graph plots and its analysis are given above after every model fit and prediction"
   ]
  },
  {
   "cell_type": "markdown",
   "metadata": {},
   "source": [
    "### Runtime analysis for training model "
   ]
  },
  {
   "cell_type": "markdown",
   "metadata": {},
   "source": [
    "| MODEL| AVERAGE TIME/EPOCH IN GPU\n",
    "|------|------|\n",
    "|  BaseModel(40 epochs) | 2-3 s/epoch \n",
    "|  cnn_3 (40 epochs)  | 6 s/epoch \n",
    "|  cnn_4 (80 epochs) | 50 s/epoch \n",
    "|  Resnet-50 (30 epochs)| 35 s/epoch \n",
    "|  VGG19 (40 epochs)  | 2 s/epoch "
   ]
  },
  {
   "cell_type": "markdown",
   "metadata": {},
   "source": [
    "Eventhough the training time for BaseModel,cnn_3 and VGG19 is less the accuracy achieved is not satisfiable.Inaddition to that the memory requirement of Resnet 50 and VGG19 is and preparing the data to pass to the model takes a lot of preprocessing effort and increases complexity.Considering classification accuracy,implementation,minimizing the loss value we consider cnn with four convolution layers and two fully connected layer to be a better model for Fashion MNIST."
   ]
  },
  {
   "cell_type": "code",
   "execution_count": null,
   "metadata": {},
   "outputs": [],
   "source": []
  }
 ],
 "metadata": {
  "accelerator": "GPU",
  "colab": {
   "name": "baselinemodel_complete.ipynb",
   "provenance": []
  },
  "kernelspec": {
   "display_name": "Python 3",
   "language": "python",
   "name": "python3"
  },
  "language_info": {
   "codemirror_mode": {
    "name": "ipython",
    "version": 3
   },
   "file_extension": ".py",
   "mimetype": "text/x-python",
   "name": "python",
   "nbconvert_exporter": "python",
   "pygments_lexer": "ipython3",
   "version": "3.7.6"
  }
 },
 "nbformat": 4,
 "nbformat_minor": 4
}
